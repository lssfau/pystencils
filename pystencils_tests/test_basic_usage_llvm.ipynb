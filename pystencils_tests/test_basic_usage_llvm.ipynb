{
 "cells": [
  {
   "cell_type": "markdown",
   "metadata": {},
   "source": [
    "# pystencils - LLVM generation\n",
    "The generation of LLVM code is simliar but not identical as seen with the C++ version. For the generation itself a python module ``llvmlite`` is used. This module provides the necessary support and bindings for LLVM. In order to generate from the AST to llvm, the AST needs to be transformed to support type conversions. This is the biggest difference to the C++ version. C++ doesn't need that since the language itself handles the casts.\n",
    "\n",
    "In this example a simple weighted Jacobi kernel is generated, so the focus remains on the part of LLVM generation."
   ]
  },
  {
   "cell_type": "code",
   "execution_count": 1,
   "metadata": {},
   "outputs": [],
   "source": [
    "import sympy as sp\n",
    "import numpy as np\n",
    "import ctypes\n",
    "from pystencils import Field, Assignment\n",
    "from pystencils import create_kernel\n",
    "from pystencils.display_utils import to_dot\n",
    "\n",
    "sp.init_printing()"
   ]
  },
  {
   "cell_type": "markdown",
   "metadata": {},
   "source": [
    "The numpy arrays (with inital values) create *Field*s for the update Rule. Later those arrays are used for the computation itself."
   ]
  },
  {
   "cell_type": "code",
   "execution_count": 2,
   "metadata": {},
   "outputs": [],
   "source": [
    "src_arr = np.zeros((30, 20))\n",
    "src_arr[0,:] = 1.0\n",
    "src_arr[:,0] = 1.0\n",
    "dst_arr = src_arr.copy()\n",
    "\n",
    "src_field = Field.create_from_numpy_array('src', src_arr)\n",
    "dst_field = Field.create_from_numpy_array('dst', dst_arr)"
   ]
  },
  {
   "cell_type": "markdown",
   "metadata": {},
   "source": [
    "Using the *Field* objects and the additional *Symbol* $\\omega$ for the weight the update rule is specified as a *sympy* equation."
   ]
  },
  {
   "cell_type": "code",
   "execution_count": 3,
   "metadata": {},
   "outputs": [
    {
     "data": {
      "image/png": "[encoded data removed]",
      "text/plain": [
       "                            ω⋅(src_E + src_N + src_S + src_W)\n",
       "dst_C := src_C⋅(-ω + 1.0) + ─────────────────────────────────\n",
       "                                            4                "
      ]
     },
     "execution_count": 3,
     "metadata": {},
     "output_type": "execute_result"
    }
   ],
   "source": [
    "omega = sp.symbols(\"omega\")\n",
    "update_rule = Assignment(dst_field[0,0], omega * (src_field[0,1] + src_field[0,-1] + src_field[1,0] + src_field[-1,0]) / 4\n",
    "                   + (1.-omega)*src_field[0,0])\n",
    "update_rule"
   ]
  },
  {
   "cell_type": "markdown",
   "metadata": {},
   "source": [
    "With this update rule an abstract syntax tree (AST) can be created. This AST can be used to print the LLVM code. The creation follows the same routines as the C++ version does. However at the end there are two more steps. In order to generate LLVM, type casting and pointer arithmetic had to be introduced (which C++ does for you)."
   ]
  },
  {
   "cell_type": "code",
   "execution_count": 4,
   "metadata": {
    "scrolled": false
   },
   "outputs": [
    {
     "name": "stdout",
     "output_type": "stream",
     "text": [
      "KernelFunction kernel([<double * RESTRICT fd_dst>, <double * RESTRICT const fd_src>, <double omega>])\n",
      "\tBlock for(ctr_0=1; ctr_0<29; ctr_0+=1)\n",
      "\t\tBlock fd_dst_C ← pointer_arithmetic_func(fd_dst, 20*ctr_0)\n",
      "\t\tfd_src_C ← pointer_arithmetic_func(fd_src, 20*ctr_0)\n",
      "\t\tfd_src_E ← pointer_arithmetic_func(fd_src, 20*ctr_0 + 20)\n",
      "\t\tfd_src_W ← pointer_arithmetic_func(fd_src, 20*ctr_0 - 20)\n",
      "\t\tfor(ctr_1=1; ctr_1<19; ctr_1+=1)\n",
      "\t\t\tBlock fd_dst_C[ctr_1] ← omega*(fd_src_C[ctr_1 + 1] + fd_src_C[ctr_1 - 1] + fd_src_E[ctr_1] + fd_src_W[ctr_1])/4 + (omega*cast_func(-1, double) + 1.0)*fd_src_C[ctr_1]\n",
      "\t\t\n",
      "\t\n",
      "\n"
     ]
    }
   ],
   "source": [
    "ast = create_kernel([update_rule], target='llvm')\n",
    "print(str(ast))"
   ]
  },
  {
   "cell_type": "markdown",
   "metadata": {},
   "source": [
    "It is possible to examine the AST further."
   ]
  },
  {
   "cell_type": "code",
   "execution_count": 5,
   "metadata": {
    "scrolled": false
   },
   "outputs": [
    {
     "data": {
      "image/svg+xml": [
       "<?xml version=\"1.0\" encoding=\"UTF-8\" standalone=\"no\"?>\n",
       "<!DOCTYPE svg PUBLIC \"-//W3C//DTD SVG 1.1//EN\"\n",
       " \"http://www.w3.org/Graphics/SVG/1.1/DTD/svg11.dtd\">\n",
       "<!-- Generated by graphviz version 2.38.0 (20140413.2041)\n",
       " -->\n",
       "<!-- Title: %3 Pages: 1 -->\n",
       "<svg width=\"570pt\" height=\"476pt\"\n",
       " viewBox=\"0.00 0.00 569.74 476.00\" xmlns=\"http://www.w3.org/2000/svg\" xmlns:xlink=\"http://www.w3.org/1999/xlink\">\n",
       "<g id=\"graph0\" class=\"graph\" transform=\"scale(1 1) rotate(0) translate(4 472)\">\n",
       "<title>%3</title>\n",
       "<polygon fill=\"white\" stroke=\"none\" points=\"-4,4 -4,-472 565.74,-472 565.74,4 -4,4\"/>\n",
       "<!-- 139831602112104 -->\n",
       "<g id=\"node1\" class=\"node\"><title>139831602112104</title>\n",
       "<ellipse fill=\"#a056db\" stroke=\"black\" cx=\"249.896\" cy=\"-450\" rx=\"112.38\" ry=\"18\"/>\n",
       "<text text-anchor=\"middle\" x=\"249.896\" y=\"-446.3\" font-family=\"Times,serif\" font-size=\"14.00\">Func: kernel (dst,src,omega)</text>\n",
       "</g>\n",
       "<!-- 139831601760856 -->\n",
       "<g id=\"node11\" class=\"node\"><title>139831601760856</title>\n",
       "<ellipse fill=\"#dbc256\" stroke=\"black\" cx=\"249.896\" cy=\"-378\" rx=\"31.6951\" ry=\"18\"/>\n",
       "<text text-anchor=\"middle\" x=\"249.896\" y=\"-374.3\" font-family=\"Times,serif\" font-size=\"14.00\">Block</text>\n",
       "</g>\n",
       "<!-- 139831602112104&#45;&gt;139831601760856 -->\n",
       "<g id=\"edge10\" class=\"edge\"><title>139831602112104&#45;&gt;139831601760856</title>\n",
       "<path fill=\"none\" stroke=\"black\" d=\"M249.896,-431.697C249.896,-423.983 249.896,-414.712 249.896,-406.112\"/>\n",
       "<polygon fill=\"black\" stroke=\"black\" points=\"253.396,-406.104 249.896,-396.104 246.396,-406.104 253.396,-406.104\"/>\n",
       "</g>\n",
       "<!-- 139831601760688 -->\n",
       "<g id=\"node2\" class=\"node\"><title>139831601760688</title>\n",
       "<ellipse fill=\"#3498db\" stroke=\"black\" cx=\"249.896\" cy=\"-306\" rx=\"70.6878\" ry=\"18\"/>\n",
       "<text text-anchor=\"middle\" x=\"249.896\" y=\"-302.3\" font-family=\"Times,serif\" font-size=\"14.00\">Loop over dim 0</text>\n",
       "</g>\n",
       "<!-- 139831601760296 -->\n",
       "<g id=\"node10\" class=\"node\"><title>139831601760296</title>\n",
       "<ellipse fill=\"#dbc256\" stroke=\"black\" cx=\"249.896\" cy=\"-234\" rx=\"31.6951\" ry=\"18\"/>\n",
       "<text text-anchor=\"middle\" x=\"249.896\" y=\"-230.3\" font-family=\"Times,serif\" font-size=\"14.00\">Block</text>\n",
       "</g>\n",
       "<!-- 139831601760688&#45;&gt;139831601760296 -->\n",
       "<g id=\"edge8\" class=\"edge\"><title>139831601760688&#45;&gt;139831601760296</title>\n",
       "<path fill=\"none\" stroke=\"black\" d=\"M249.896,-287.697C249.896,-279.983 249.896,-270.712 249.896,-262.112\"/>\n",
       "<polygon fill=\"black\" stroke=\"black\" points=\"253.396,-262.104 249.896,-252.104 246.396,-262.104 253.396,-262.104\"/>\n",
       "</g>\n",
       "<!-- 139832610576760 -->\n",
       "<g id=\"node3\" class=\"node\"><title>139832610576760</title>\n",
       "<ellipse fill=\"#56db7f\" stroke=\"black\" cx=\"42.8962\" cy=\"-162\" rx=\"42.7926\" ry=\"18\"/>\n",
       "<text text-anchor=\"middle\" x=\"42.8962\" y=\"-158.3\" font-family=\"Times,serif\" font-size=\"14.00\">fd_dst_C</text>\n",
       "</g>\n",
       "<!-- 139832610531536 -->\n",
       "<g id=\"node4\" class=\"node\"><title>139832610531536</title>\n",
       "<ellipse fill=\"#56db7f\" stroke=\"black\" cx=\"146.896\" cy=\"-162\" rx=\"42.7926\" ry=\"18\"/>\n",
       "<text text-anchor=\"middle\" x=\"146.896\" y=\"-158.3\" font-family=\"Times,serif\" font-size=\"14.00\">fd_src_C</text>\n",
       "</g>\n",
       "<!-- 139831601689544 -->\n",
       "<g id=\"node5\" class=\"node\"><title>139831601689544</title>\n",
       "<ellipse fill=\"#56db7f\" stroke=\"black\" cx=\"249.896\" cy=\"-162\" rx=\"42.4939\" ry=\"18\"/>\n",
       "<text text-anchor=\"middle\" x=\"249.896\" y=\"-158.3\" font-family=\"Times,serif\" font-size=\"14.00\">fd_src_E</text>\n",
       "</g>\n",
       "<!-- 139831601689432 -->\n",
       "<g id=\"node6\" class=\"node\"><title>139831601689432</title>\n",
       "<ellipse fill=\"#56db7f\" stroke=\"black\" cx=\"355.896\" cy=\"-162\" rx=\"46.2923\" ry=\"18\"/>\n",
       "<text text-anchor=\"middle\" x=\"355.896\" y=\"-158.3\" font-family=\"Times,serif\" font-size=\"14.00\">fd_src_W</text>\n",
       "</g>\n",
       "<!-- 139831601761472 -->\n",
       "<g id=\"node7\" class=\"node\"><title>139831601761472</title>\n",
       "<ellipse fill=\"#3498db\" stroke=\"black\" cx=\"490.896\" cy=\"-162\" rx=\"70.6878\" ry=\"18\"/>\n",
       "<text text-anchor=\"middle\" x=\"490.896\" y=\"-158.3\" font-family=\"Times,serif\" font-size=\"14.00\">Loop over dim 1</text>\n",
       "</g>\n",
       "<!-- 139831601761360 -->\n",
       "<g id=\"node9\" class=\"node\"><title>139831601761360</title>\n",
       "<ellipse fill=\"#dbc256\" stroke=\"black\" cx=\"490.896\" cy=\"-90\" rx=\"31.6951\" ry=\"18\"/>\n",
       "<text text-anchor=\"middle\" x=\"490.896\" y=\"-86.3\" font-family=\"Times,serif\" font-size=\"14.00\">Block</text>\n",
       "</g>\n",
       "<!-- 139831601761472&#45;&gt;139831601761360 -->\n",
       "<g id=\"edge2\" class=\"edge\"><title>139831601761472&#45;&gt;139831601761360</title>\n",
       "<path fill=\"none\" stroke=\"black\" d=\"M490.896,-143.697C490.896,-135.983 490.896,-126.712 490.896,-118.112\"/>\n",
       "<polygon fill=\"black\" stroke=\"black\" points=\"494.396,-118.104 490.896,-108.104 487.396,-118.104 494.396,-118.104\"/>\n",
       "</g>\n",
       "<!-- 139831601222656 -->\n",
       "<g id=\"node8\" class=\"node\"><title>139831601222656</title>\n",
       "<ellipse fill=\"#56db7f\" stroke=\"black\" cx=\"490.896\" cy=\"-18\" rx=\"66.8882\" ry=\"18\"/>\n",
       "<text text-anchor=\"middle\" x=\"490.896\" y=\"-14.3\" font-family=\"Times,serif\" font-size=\"14.00\">fd_dst_C[ctr_1]</text>\n",
       "</g>\n",
       "<!-- 139831601761360&#45;&gt;139831601222656 -->\n",
       "<g id=\"edge1\" class=\"edge\"><title>139831601761360&#45;&gt;139831601222656</title>\n",
       "<path fill=\"none\" stroke=\"black\" d=\"M490.896,-71.6966C490.896,-63.9827 490.896,-54.7125 490.896,-46.1124\"/>\n",
       "<polygon fill=\"black\" stroke=\"black\" points=\"494.396,-46.1043 490.896,-36.1043 487.396,-46.1044 494.396,-46.1043\"/>\n",
       "</g>\n",
       "<!-- 139831601760296&#45;&gt;139832610576760 -->\n",
       "<g id=\"edge3\" class=\"edge\"><title>139831601760296&#45;&gt;139832610576760</title>\n",
       "<path fill=\"none\" stroke=\"black\" d=\"M223.258,-223.992C188.18,-212.13 126.117,-191.142 84.7403,-177.15\"/>\n",
       "<polygon fill=\"black\" stroke=\"black\" points=\"85.8067,-173.816 75.2124,-173.928 83.5642,-180.447 85.8067,-173.816\"/>\n",
       "</g>\n",
       "<!-- 139831601760296&#45;&gt;139832610531536 -->\n",
       "<g id=\"edge4\" class=\"edge\"><title>139831601760296&#45;&gt;139832610531536</title>\n",
       "<path fill=\"none\" stroke=\"black\" d=\"M230.037,-219.503C215.003,-209.286 194.096,-195.077 177.009,-183.465\"/>\n",
       "<polygon fill=\"black\" stroke=\"black\" points=\"178.711,-180.39 168.473,-177.664 174.776,-186.179 178.711,-180.39\"/>\n",
       "</g>\n",
       "<!-- 139831601760296&#45;&gt;139831601689544 -->\n",
       "<g id=\"edge5\" class=\"edge\"><title>139831601760296&#45;&gt;139831601689544</title>\n",
       "<path fill=\"none\" stroke=\"black\" d=\"M249.896,-215.697C249.896,-207.983 249.896,-198.712 249.896,-190.112\"/>\n",
       "<polygon fill=\"black\" stroke=\"black\" points=\"253.396,-190.104 249.896,-180.104 246.396,-190.104 253.396,-190.104\"/>\n",
       "</g>\n",
       "<!-- 139831601760296&#45;&gt;139831601689432 -->\n",
       "<g id=\"edge6\" class=\"edge\"><title>139831601760296&#45;&gt;139831601689432</title>\n",
       "<path fill=\"none\" stroke=\"black\" d=\"M269.834,-219.834C285.399,-209.555 307.297,-195.094 325.109,-183.331\"/>\n",
       "<polygon fill=\"black\" stroke=\"black\" points=\"327.063,-186.235 333.479,-177.804 323.206,-180.394 327.063,-186.235\"/>\n",
       "</g>\n",
       "<!-- 139831601760296&#45;&gt;139831601761472 -->\n",
       "<g id=\"edge7\" class=\"edge\"><title>139831601760296&#45;&gt;139831601761472</title>\n",
       "<path fill=\"none\" stroke=\"black\" d=\"M277.542,-224.97C316.06,-213.782 386.695,-193.266 436.102,-178.915\"/>\n",
       "<polygon fill=\"black\" stroke=\"black\" points=\"437.367,-182.193 445.994,-176.042 435.415,-175.47 437.367,-182.193\"/>\n",
       "</g>\n",
       "<!-- 139831601760856&#45;&gt;139831601760688 -->\n",
       "<g id=\"edge9\" class=\"edge\"><title>139831601760856&#45;&gt;139831601760688</title>\n",
       "<path fill=\"none\" stroke=\"black\" d=\"M249.896,-359.697C249.896,-351.983 249.896,-342.712 249.896,-334.112\"/>\n",
       "<polygon fill=\"black\" stroke=\"black\" points=\"253.396,-334.104 249.896,-324.104 246.396,-334.104 253.396,-334.104\"/>\n",
       "</g>\n",
       "</g>\n",
       "</svg>\n"
      ],
      "text/plain": [
       "<graphviz.files.Source at 0x7f2d14f276a0>"
      ]
     },
     "execution_count": 5,
     "metadata": {},
     "output_type": "execute_result"
    }
   ],
   "source": [
    "to_dot(ast)"
   ]
  },
  {
   "cell_type": "markdown",
   "metadata": {},
   "source": [
    "With transformed AST it is now possible to generate and compile the AST into LLVM. Notice that unlike in C++ version, no files are writen to the hard drive (although it is possible).\n",
    "\n",
    "There are multiple ways how to generate and compile the AST. The most simple one is simillar to the C++ version. Using the ``compile()`` function of the generated AST\n",
    "\n",
    "You can also manually create a python function with ``make_python_function``.\n",
    "\n",
    "Another option is obtaining the jit itself with ``generate_and_jit``.\n",
    "The function ``generate_and_jit`` first generates and the compiles the AST.\n",
    "\n",
    "If even more controll is needed, it is possible to use the functions ``generateLLVM`` and ``compileLLVM`` to achieve the same. For further controll, instead of calling ``compileLLVM`` the jit object itself can be created and its necessary functions for the compilation have to be run manually (``parse``, (``optimize``,) ``compile``)"
   ]
  },
  {
   "cell_type": "code",
   "execution_count": 6,
   "metadata": {
    "scrolled": false
   },
   "outputs": [],
   "source": [
    "kernel = ast.compile()\n",
    "\n",
    "#kernel = make_python_function(ast)\n",
    "\n",
    "# Or alternativally\n",
    "#jit = generate_and_jit(ast)\n",
    "# Call: jit('kernel', src_arr, dst_arr)"
   ]
  },
  {
   "cell_type": "markdown",
   "metadata": {},
   "source": [
    "The compiled function(s) can be used now. Either call the function (with arguments, if not given before) or call the jit object with the function's name and its arguments. Here, numpy arrays are automatically adjusted with ctypes.\n",
    "\n",
    "The functions and arguments can be read as well.\n",
    "\n",
    "**All of the information the jit object has comes from the module which was parsed. If you parse a second module and don't run the compilation step, the module and the compiled code are not the same anymore, thus leading to false information**"
   ]
  },
  {
   "cell_type": "code",
   "execution_count": 7,
   "metadata": {},
   "outputs": [],
   "source": [
    "#jit.print_functions()"
   ]
  },
  {
   "cell_type": "code",
   "execution_count": 8,
   "metadata": {
    "scrolled": true
   },
   "outputs": [],
   "source": [
    "for i in range(100):\n",
    "    kernel(src=src_arr, dst=dst_arr, omega=2/3)\n",
    "    src_arr, dst_arr = dst_arr, src_arr\n",
    "\n"
   ]
  },
  {
   "cell_type": "markdown",
   "metadata": {},
   "source": [
    "The output is drawn with matplotlib."
   ]
  },
  {
   "cell_type": "code",
   "execution_count": 9,
   "metadata": {},
   "outputs": [
    {
     "data": {
      "text/plain": [
       "<Figure size 640x480 with 1 Axes>"
      ]
     },
     "metadata": {},
     "output_type": "display_data"
    }
   ],
   "source": [
    "import matplotlib.pyplot as plt\n",
    "from matplotlib import cm\n",
    "fig = plt.figure()\n",
    "ax = fig.add_subplot(111)\n",
    "ax.imshow(dst_arr, cmap=cm.jet)\n",
    "plt.show()"
   ]
  },
  {
   "cell_type": "code",
   "execution_count": null,
   "metadata": {},
   "outputs": [],
   "source": []
  }
 ],
 "metadata": {
  "anaconda-cloud": {},
  "kernelspec": {
   "display_name": "Python 3",
   "language": "python",
   "name": "python3"
  },
  "language_info": {
   "codemirror_mode": {
    "name": "ipython",
    "version": 3
   },
   "file_extension": ".py",
   "mimetype": "text/x-python",
   "name": "python",
   "nbconvert_exporter": "python",
   "pygments_lexer": "ipython3",
   "version": "3.8.5"
  }
 },
 "nbformat": 4,
 "nbformat_minor": 2
}
