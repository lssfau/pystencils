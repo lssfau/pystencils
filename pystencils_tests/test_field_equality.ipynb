{
 "cells": [
  {
   "cell_type": "code",
   "execution_count": 1,
   "metadata": {},
   "outputs": [],
   "source": [
    "from pystencils.session import *\n",
    "from pystencils.data_types import cast_func"
   ]
  },
  {
   "cell_type": "markdown",
   "metadata": {},
   "source": [
    "## Test field equality behaviour\n"
   ]
  },
  {
   "cell_type": "markdown",
   "metadata": {},
   "source": [
    "Fields create with same parameters are equal"
   ]
  },
  {
   "cell_type": "code",
   "execution_count": 2,
   "metadata": {},
   "outputs": [],
   "source": [
    "f1 = ps.Field.create_generic('f', spatial_dimensions=2, index_dimensions=0)\n",
    "f2 = ps.Field.create_generic('f', spatial_dimensions=2, index_dimensions=0)\n",
    "\n",
    "assert f1 == f2"
   ]
  },
  {
   "cell_type": "code",
   "execution_count": 3,
   "metadata": {},
   "outputs": [
    {
     "name": "stdout",
     "output_type": "stream",
     "text": [
      "Field ids equal in accesses:  True\n",
      "Field accesses equal:  True\n"
     ]
    }
   ],
   "source": [
    "print(\"Field ids equal in accesses: \", id(f1.center._field) == id(f2.center._field))\n",
    "print(\"Field accesses equal: \", f1.center == f2.center)"
   ]
  },
  {
   "cell_type": "code",
   "execution_count": 4,
   "metadata": {},
   "outputs": [],
   "source": [
    "f1 = ps.Field.create_generic('f', spatial_dimensions=1, index_dimensions=0)\n",
    "f2 = ps.Field.create_generic('f', spatial_dimensions=2, index_dimensions=0)\n",
    "assert f1 != f2"
   ]
  },
  {
   "cell_type": "code",
   "execution_count": 5,
   "metadata": {},
   "outputs": [],
   "source": [
    "f1 = ps.Field.create_generic('f', spatial_dimensions=1, index_dimensions=0)\n",
    "f2 = ps.Field.create_generic('f', spatial_dimensions=1, index_dimensions=0, dtype=np.float32)\n",
    "assert f1 != f2"
   ]
  },
  {
   "cell_type": "markdown",
   "metadata": {},
   "source": [
    "Properties of fields:\n",
    "- `field_type`: enum distinguishing normal from index or buffer fields\n",
    "- `_dtype`: data type of field elements\n",
    "- `_layout`: tuple indicating the memory linearization order\n",
    "- `shape`: size of field for each dimension\n",
    "- `strides`: number of elements to jump over to increase coordinate of this dimension by one\n",
    "- `latex_name`: optional display name when field is printed as latex\n",
    "\n",
    "Equality compare of fields:\n",
    "- field has `__eq__` and ``__hash__`` overridden\n",
    "- all parameter but `latex_name` are considered for equality"
   ]
  },
  {
   "cell_type": "markdown",
   "metadata": {},
   "source": [
    "## Test field access equality behaviour"
   ]
  },
  {
   "cell_type": "code",
   "execution_count": 6,
   "metadata": {},
   "outputs": [],
   "source": [
    "f1 = ps.Field.create_generic('f', spatial_dimensions=1, index_dimensions=0)\n",
    "f2 = ps.Field.create_generic('f', spatial_dimensions=1, index_dimensions=0)\n",
    "assert f1.center == f2.center"
   ]
  },
  {
   "cell_type": "code",
   "execution_count": 7,
   "metadata": {},
   "outputs": [],
   "source": [
    "f1 = ps.Field.create_generic('f', spatial_dimensions=1, index_dimensions=0)\n",
    "f2 = ps.Field.create_generic('f', spatial_dimensions=1, index_dimensions=0, dtype=np.float32)\n",
    "assert f1.center != f2.center"
   ]
  },
  {
   "cell_type": "code",
   "execution_count": 8,
   "metadata": {},
   "outputs": [],
   "source": [
    "def print_field_accesses_debug(expr):\n",
    "    from pystencils import Field\n",
    "    fas = list(expr.atoms(Field.Access))\n",
    "    fields = list({e.field for e in fas})\n",
    "    print(\"Field Accesses:\")\n",
    "    for fa in fas:\n",
    "        print(f\"   - {fa}, hash {hash(fa)}, offsets {fa._offsets}, index {fa._index}, {fa._hashable_content()}\")\n",
    "    print(\"\")\n",
    "    for i in range(len(fas)):\n",
    "        for j in range(len(fas)):\n",
    "            if not i < j: \n",
    "                continue\n",
    "            print( f\"   -> {i},{j}  {fas[i]} == {fas[j]}: {fas[i] == {fas[j]}}\")\n",
    "    \n",
    "    print(\"Fields\")\n",
    "    for f in fields:\n",
    "        print(f\"  - {f}, {id(f)}, shape {f.shape}, strides {f.strides}, {f._dtype}, {f.field_type}, layout {f.layout}\")\n",
    "    print(\"\")\n",
    "    for i in range(len(fields)):\n",
    "        for j in range(len(fields)):\n",
    "            if not i < j: \n",
    "                continue\n",
    "            print(f\"  - {fields[i]} == {fields[j]}: {fields[i] == fields[j]}, ids equal {id(fields[i])==id(fields[j])}, hash equal {hash(fields[i])==hash(fields[j])}\")"
   ]
  },
  {
   "cell_type": "code",
   "execution_count": 9,
   "metadata": {},
   "outputs": [
    {
     "name": "stdout",
     "output_type": "stream",
     "text": [
      "Field Accesses:\n",
      "   - f[0], hash 2177071761647211096, offsets (0,), index (), (('f_C', ('commutative', True)), ((0,), (fshape_f[0],), (fstride_f[0],), -2638709558778433189, <FieldType.GENERIC: 0>, 'f'), 0)\n",
      "   - f[0], hash -219035921004479174, offsets (0,), index (), (('f_C', ('commutative', True)), ((0,), (fshape_f[0],), (fstride_f[0],), 1379426851108887372, <FieldType.GENERIC: 0>, 'f'), 0)\n",
      "\n",
      "   -> 0,1  f[0] == f[0]: False\n",
      "Fields\n",
      "  - f, 139911303819560, shape (fshape_f[0],), strides (fstride_f[0],), double, FieldType.GENERIC, layout (0,)\n",
      "  - f, 139911303820008, shape (fshape_f[0],), strides (fstride_f[0],), float, FieldType.GENERIC, layout (0,)\n",
      "\n",
      "  - f == f: False, ids equal False, hash equal False\n"
     ]
    }
   ],
   "source": [
    "print_field_accesses_debug(f1.center * f2.center)"
   ]
  },
  {
   "cell_type": "markdown",
   "metadata": {},
   "source": [
    "## Custom fields"
   ]
  },
  {
   "cell_type": "code",
   "execution_count": 10,
   "metadata": {},
   "outputs": [],
   "source": [
    "from lbmpy.sparse.update_rule_sparse import *"
   ]
  },
  {
   "cell_type": "code",
   "execution_count": 13,
   "metadata": {},
   "outputs": [
    {
     "data": {
      "image/png": "[encoded data removed]",
      "text/latex": [
       "$${{f}_{\\mathbf{{l}_{1}^{1}}}^{1}} + {{f}_{\\mathbf{{l}_{1}}}^{1}}$$"
      ],
      "text/plain": [
       "f_000035D373 + f_000035D373"
      ]
     },
     "execution_count": 13,
     "metadata": {},
     "output_type": "execute_result"
    }
   ],
   "source": [
    "list_field = create_symbolic_list('l', 10, 2, np.float64)\n",
    "normal_field = ps.fields(\"f: [2D]\")\n",
    "normal_field.field_type = ps.FieldType.CUSTOM\n",
    "\n",
    "t1 = normal_field.absolute_access( (list_field[1](0),), (1,))\n",
    "t2 = normal_field.absolute_access( (list_field[1](1),), (1,))\n",
    "t1 + t2"
   ]
  }
 ],
 "metadata": {
  "kernelspec": {
   "display_name": "Python 3",
   "language": "python",
   "name": "python3"
  },
  "language_info": {
   "codemirror_mode": {
    "name": "ipython",
    "version": 3
   },
   "file_extension": ".py",
   "mimetype": "text/x-python",
   "name": "python",
   "nbconvert_exporter": "python",
   "pygments_lexer": "ipython3",
   "version": "3.6.6"
  }
 },
 "nbformat": 4,
 "nbformat_minor": 2
}
