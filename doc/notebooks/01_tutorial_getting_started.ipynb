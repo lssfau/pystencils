{
 "cells": [
  {
   "cell_type": "code",
   "execution_count": 1,
   "metadata": {},
   "outputs": [],
   "source": [
    "from pystencils.session import *"
   ]
  },
  {
   "cell_type": "markdown",
   "metadata": {},
   "source": [
    "# Tutorial 01: Getting Started\n",
    "\n",
    "\n",
    "## Overview\n",
    "\n",
    "\n",
    "*pystencils* is a package that can speed up transformations on *numpy* arrays. All computations are carried out fully parallel on CPUs (single node with OpenMP, multiple nodes with MPI) or on GPUs.\n",
    "\n",
    "It is suited for applications that run the same operation on *numpy* arrays multiple times like for example:\n",
    "- numerical simulations (finite difference, lattice Boltzmann)\n",
    "- image processing\n",
    "\n",
    "As the name suggests, *pystencils* was developed for **stencil codes**, i.e. operations that update an element of a numpy array using only a local neighborhood. \n",
    "\n",
    "<img width=\"25%\" src='../../img/pystencils_stencil_four_points_with_arrows.svg'>\n",
    "\n",
    "It generates C code, compiles it behind the scenes, and lets you call the compiled C function as if it was a native Python function. \n",
    "\n",
    "But lets not dive too deep into the concepts of *pystencils* here, they are covered in detail in the following tutorials. Lets instead look at a simple example, that computes the average neighbor values of a *numpy* array.\n",
    "\n",
    "We create two rather large arrays for in- and output."
   ]
  },
  {
   "cell_type": "code",
   "execution_count": 2,
   "metadata": {},
   "outputs": [],
   "source": [
    "input_arr = np.random.rand(1024, 1024)\n",
    "output_arr = np.zeros_like(input_arr)"
   ]
  },
  {
   "cell_type": "markdown",
   "metadata": {},
   "source": [
    "We first implement a version of this algorithm using pure numpy and benchmark it."
   ]
  },
  {
   "cell_type": "code",
   "execution_count": 3,
   "metadata": {},
   "outputs": [],
   "source": [
    "def numpy_kernel():\n",
    "    output_arr[1:-1, 1:-1] = input_arr[2:, 1:-1] + input_arr[:-2, 1:-1] + \\\n",
    "                             input_arr[1:-1, 2:] + input_arr[1:-1, :-2]"
   ]
  },
  {
   "cell_type": "code",
   "execution_count": 4,
   "metadata": {},
   "outputs": [
    {
     "name": "stdout",
     "output_type": "stream",
     "text": [
      "7.13 ms ± 254 µs per loop (mean ± std. dev. of 7 runs, 100 loops each)\n"
     ]
    }
   ],
   "source": [
    "%%timeit \n",
    "numpy_kernel()"
   ]
  },
  {
   "cell_type": "markdown",
   "metadata": {},
   "source": [
    "Now lets see how to run the same algorithm with *pystencils*."
   ]
  },
  {
   "cell_type": "code",
   "execution_count": 5,
   "metadata": {},
   "outputs": [
    {
     "data": {
      "image/png": "[encoded data removed]",
      "text/latex": [
       "$${{dst}_{(0,0)}} \\leftarrow \\frac{{{src}_{(-1,0)}}}{4} + \\frac{{{src}_{(0,-1)}}}{4} + \\frac{{{src}_{(0,1)}}}{4} + \\frac{{{src}_{(1,0)}}}{4}$$"
      ],
      "text/plain": [
       "         src_W   src_S   src_N   src_E\n",
       "dst_C := ───── + ───── + ───── + ─────\n",
       "           4       4       4       4  "
      ]
     },
     "execution_count": 5,
     "metadata": {},
     "output_type": "execute_result"
    }
   ],
   "source": [
    "src, dst = ps.fields(src=input_arr, dst=output_arr)\n",
    "\n",
    "symbolic_description = ps.Assignment(dst[0,0], \n",
    "                                     (src[1, 0] + src[-1, 0] + src[0, 1] + src[0, -1]) / 4)\n",
    "symbolic_description"
   ]
  },
  {
   "cell_type": "code",
   "execution_count": 6,
   "metadata": {},
   "outputs": [
    {
     "data": {
      "image/png": "[encoded data removed]",
      "text/plain": [
       "<Figure size 216x216 with 1 Axes>"
      ]
     },
     "metadata": {},
     "output_type": "display_data"
    }
   ],
   "source": [
    "plt.figure(figsize=(3,3))\n",
    "ps.visualize_stencil_expression(symbolic_description.rhs)"
   ]
  },
  {
   "cell_type": "markdown",
   "metadata": {},
   "source": [
    "Here we first have created a symbolic notation of the stencil itself. This representation is built on top of *sympy* and is explained in detail in the next section. \n",
    "This description is then compiled and loaded as a Python function."
   ]
  },
  {
   "cell_type": "code",
   "execution_count": 7,
   "metadata": {},
   "outputs": [],
   "source": [
    "kernel = ps.create_kernel(symbolic_description).compile()"
   ]
  },
  {
   "cell_type": "markdown",
   "metadata": {},
   "source": [
    "This whole process might seem overly complicated. We have already spent more lines of code as for the *numpy* implementation and don't have anything running yet! However, this multi stage process of formulating the algorithm symbolically, and just in the end actually running it, is what makes *pystencils* faster and more flexible than other approaches.\n",
    "\n",
    "Now finally lets benchmark the *pystencils* kernel."
   ]
  },
  {
   "cell_type": "code",
   "execution_count": 8,
   "metadata": {},
   "outputs": [],
   "source": [
    "def pystencils_kernel():\n",
    "    kernel(src=input_arr, dst=output_arr)"
   ]
  },
  {
   "cell_type": "code",
   "execution_count": 9,
   "metadata": {},
   "outputs": [
    {
     "name": "stdout",
     "output_type": "stream",
     "text": [
      "1.36 ms ± 51.5 µs per loop (mean ± std. dev. of 7 runs, 1000 loops each)\n"
     ]
    }
   ],
   "source": [
    "%%timeit\n",
    "pystencils_kernel()"
   ]
  },
  {
   "cell_type": "markdown",
   "metadata": {},
   "source": [
    "This benchmark shows that *pystencils* is a lot faster than pure *numpy*, especially for large arrays. \n",
    "If you are interested in performance details and comparison to other packages like Cython, have a look at [this page](demo_benchmark.ipynb).\n",
    "\n"
   ]
  },
  {
   "cell_type": "markdown",
   "metadata": {},
   "source": [
    "## Short *sympy* introduction\n",
    "\n",
    "In this tutorial we continue with a short *sympy* introduction, since the symbolic kernel definition is built on top of this package. If you already know *sympy* you can skip this section. \n",
    "You can also read the full [sympy documentation here](http://docs.sympy.org/latest/index.html)."
   ]
  },
  {
   "cell_type": "code",
   "execution_count": 10,
   "metadata": {},
   "outputs": [],
   "source": [
    "import sympy as sp\n",
    "sp.init_printing()  # enable nice LaTeX output"
   ]
  },
  {
   "cell_type": "markdown",
   "metadata": {},
   "source": [
    "*sympy* is a package for symbolic calculation. So first we need some symbols:"
   ]
  },
  {
   "cell_type": "code",
   "execution_count": 11,
   "metadata": {},
   "outputs": [
    {
     "data": {
      "text/plain": [
       "sympy.core.symbol.Symbol"
      ]
     },
     "execution_count": 11,
     "metadata": {},
     "output_type": "execute_result"
    }
   ],
   "source": [
    "x = sp.Symbol(\"x\")\n",
    "y = sp.Symbol(\"y\")\n",
    "type(x)"
   ]
  },
  {
   "cell_type": "markdown",
   "metadata": {},
   "source": [
    "The usual mathematical operations are defined for symbols:"
   ]
  },
  {
   "cell_type": "code",
   "execution_count": 12,
   "metadata": {},
   "outputs": [
    {
     "data": {
      "image/png": "[encoded data removed]",
      "text/latex": [
       "$$x^{2} \\left(x + y + 5\\right) + x^{2}$$"
      ],
      "text/plain": [
       " 2                2\n",
       "x ⋅(x + y + 5) + x "
      ]
     },
     "execution_count": 12,
     "metadata": {},
     "output_type": "execute_result"
    }
   ],
   "source": [
    "expr = x**2 * ( y + x + 5) + x**2\n",
    "expr"
   ]
  },
  {
   "cell_type": "markdown",
   "metadata": {},
   "source": [
    "Now we can do all sorts of operations on these expressions: expand them, factor them, substitute variables:"
   ]
  },
  {
   "cell_type": "code",
   "execution_count": 13,
   "metadata": {},
   "outputs": [
    {
     "data": {
      "image/png": "[encoded data removed]",
      "text/latex": [
       "$$x^{3} + x^{2} y + 6 x^{2}$$"
      ],
      "text/plain": [
       " 3    2        2\n",
       "x  + x ⋅y + 6⋅x "
      ]
     },
     "execution_count": 13,
     "metadata": {},
     "output_type": "execute_result"
    }
   ],
   "source": [
    "expr.expand()"
   ]
  },
  {
   "cell_type": "code",
   "execution_count": 14,
   "metadata": {},
   "outputs": [
    {
     "data": {
      "image/png": "[encoded data removed]",
      "text/latex": [
       "$$x^{2} \\left(x + y + 6\\right)$$"
      ],
      "text/plain": [
       " 2            \n",
       "x ⋅(x + y + 6)"
      ]
     },
     "execution_count": 14,
     "metadata": {},
     "output_type": "execute_result"
    }
   ],
   "source": [
    "expr.factor()"
   ]
  },
  {
   "cell_type": "code",
   "execution_count": 15,
   "metadata": {},
   "outputs": [
    {
     "data": {
      "image/png": "[encoded data removed]",
      "text/latex": [
       "$$x^{2} \\left(x + \\cos{\\left (x \\right )} + 5\\right) + x^{2}$$"
      ],
      "text/plain": [
       " 2                     2\n",
       "x ⋅(x + cos(x) + 5) + x "
      ]
     },
     "execution_count": 15,
     "metadata": {},
     "output_type": "execute_result"
    }
   ],
   "source": [
    "expr.subs(y, sp.cos(x))"
   ]
  },
  {
   "cell_type": "markdown",
   "metadata": {},
   "source": [
    "We can also built equations and solve them"
   ]
  },
  {
   "cell_type": "code",
   "execution_count": 16,
   "metadata": {},
   "outputs": [
    {
     "data": {
      "image/png": "[encoded data removed]",
      "text/latex": [
       "$$x^{2} \\left(x + y + 5\\right) + x^{2} = 1$$"
      ],
      "text/plain": [
       " 2                2    \n",
       "x ⋅(x + y + 5) + x  = 1"
      ]
     },
     "execution_count": 16,
     "metadata": {},
     "output_type": "execute_result"
    }
   ],
   "source": [
    "eq = sp.Eq(expr, 1)\n",
    "eq"
   ]
  },
  {
   "cell_type": "code",
   "execution_count": 17,
   "metadata": {},
   "outputs": [
    {
     "data": {
      "image/png": "[encoded data removed]",
      "text/latex": [
       "$$\\left [ - x - 6 + \\frac{1}{x^{2}}\\right ]$$"
      ],
      "text/plain": [
       "⎡         1 ⎤\n",
       "⎢-x - 6 + ──⎥\n",
       "⎢          2⎥\n",
       "⎣         x ⎦"
      ]
     },
     "execution_count": 17,
     "metadata": {},
     "output_type": "execute_result"
    }
   ],
   "source": [
    "sp.solve(sp.Eq(expr, 1), y)"
   ]
  },
  {
   "cell_type": "markdown",
   "metadata": {},
   "source": [
    "A *sympy* expression is represented by an abstract syntax tree (AST), which can be inspected and modified."
   ]
  },
  {
   "cell_type": "code",
   "execution_count": 18,
   "metadata": {},
   "outputs": [
    {
     "data": {
      "image/png": "[encoded data removed]",
      "text/latex": [
       "$$x^{2} \\left(x + y + 5\\right) + x^{2}$$"
      ],
      "text/plain": [
       " 2                2\n",
       "x ⋅(x + y + 5) + x "
      ]
     },
     "execution_count": 18,
     "metadata": {},
     "output_type": "execute_result"
    }
   ],
   "source": [
    "expr"
   ]
  },
  {
   "cell_type": "code",
   "execution_count": 19,
   "metadata": {},
   "outputs": [
    {
     "data": {
      "image/svg+xml": [
       "<?xml version=\"1.0\" encoding=\"UTF-8\" standalone=\"no\"?>\n",
       "<!DOCTYPE svg PUBLIC \"-//W3C//DTD SVG 1.1//EN\"\n",
       " \"http://www.w3.org/Graphics/SVG/1.1/DTD/svg11.dtd\">\n",
       "<!-- Generated by graphviz version 2.38.0 (20140413.2041)\n",
       " -->\n",
       "<!-- Title: %3 Pages: 1 -->\n",
       "<svg width=\"422pt\" height=\"260pt\"\n",
       " viewBox=\"0.00 0.00 422.00 260.00\" xmlns=\"http://www.w3.org/2000/svg\" xmlns:xlink=\"http://www.w3.org/1999/xlink\">\n",
       "<g id=\"graph0\" class=\"graph\" transform=\"scale(1 1) rotate(0) translate(4 256)\">\n",
       "<title>%3</title>\n",
       "<polygon fill=\"white\" stroke=\"none\" points=\"-4,4 -4,-256 418,-256 418,4 -4,4\"/>\n",
       "<!-- Add(Pow(Symbol(x), Integer(2)), Mul(Pow(Symbol(x), Integer(2)), Add(Integer(5), Symbol(x), Symbol(y))))_() -->\n",
       "<g id=\"node1\" class=\"node\"><title>Add(Pow(Symbol(x), Integer(2)), Mul(Pow(Symbol(x), Integer(2)), Add(Integer(5), Symbol(x), Symbol(y))))_()</title>\n",
       "<ellipse fill=\"none\" stroke=\"black\" cx=\"135\" cy=\"-234\" rx=\"27\" ry=\"18\"/>\n",
       "<text text-anchor=\"middle\" x=\"135\" y=\"-230.3\" font-family=\"Times,serif\" font-size=\"14.00\">Add</text>\n",
       "</g>\n",
       "<!-- Pow(Symbol(x), Integer(2))_(0,) -->\n",
       "<g id=\"node2\" class=\"node\"><title>Pow(Symbol(x), Integer(2))_(0,)</title>\n",
       "<ellipse fill=\"none\" stroke=\"black\" cx=\"99\" cy=\"-162\" rx=\"27\" ry=\"18\"/>\n",
       "<text text-anchor=\"middle\" x=\"99\" y=\"-158.3\" font-family=\"Times,serif\" font-size=\"14.00\">Pow</text>\n",
       "</g>\n",
       "<!-- Add(Pow(Symbol(x), Integer(2)), Mul(Pow(Symbol(x), Integer(2)), Add(Integer(5), Symbol(x), Symbol(y))))_()&#45;&gt;Pow(Symbol(x), Integer(2))_(0,) -->\n",
       "<g id=\"edge1\" class=\"edge\"><title>Add(Pow(Symbol(x), Integer(2)), Mul(Pow(Symbol(x), Integer(2)), Add(Integer(5), Symbol(x), Symbol(y))))_()&#45;&gt;Pow(Symbol(x), Integer(2))_(0,)</title>\n",
       "<path fill=\"none\" stroke=\"black\" d=\"M126.65,-216.765C122.288,-208.283 116.853,-197.714 111.959,-188.197\"/>\n",
       "<polygon fill=\"black\" stroke=\"black\" points=\"114.99,-186.439 107.304,-179.147 108.765,-189.641 114.99,-186.439\"/>\n",
       "</g>\n",
       "<!-- Mul(Pow(Symbol(x), Integer(2)), Add(Integer(5), Symbol(x), Symbol(y)))_(1,) -->\n",
       "<g id=\"node5\" class=\"node\"><title>Mul(Pow(Symbol(x), Integer(2)), Add(Integer(5), Symbol(x), Symbol(y)))_(1,)</title>\n",
       "<ellipse fill=\"none\" stroke=\"black\" cx=\"171\" cy=\"-162\" rx=\"27\" ry=\"18\"/>\n",
       "<text text-anchor=\"middle\" x=\"171\" y=\"-158.3\" font-family=\"Times,serif\" font-size=\"14.00\">Mul</text>\n",
       "</g>\n",
       "<!-- Add(Pow(Symbol(x), Integer(2)), Mul(Pow(Symbol(x), Integer(2)), Add(Integer(5), Symbol(x), Symbol(y))))_()&#45;&gt;Mul(Pow(Symbol(x), Integer(2)), Add(Integer(5), Symbol(x), Symbol(y)))_(1,) -->\n",
       "<g id=\"edge2\" class=\"edge\"><title>Add(Pow(Symbol(x), Integer(2)), Mul(Pow(Symbol(x), Integer(2)), Add(Integer(5), Symbol(x), Symbol(y))))_()&#45;&gt;Mul(Pow(Symbol(x), Integer(2)), Add(Integer(5), Symbol(x), Symbol(y)))_(1,)</title>\n",
       "<path fill=\"none\" stroke=\"black\" d=\"M143.35,-216.765C147.712,-208.283 153.147,-197.714 158.041,-188.197\"/>\n",
       "<polygon fill=\"black\" stroke=\"black\" points=\"161.235,-189.641 162.696,-179.147 155.01,-186.439 161.235,-189.641\"/>\n",
       "</g>\n",
       "<!-- Symbol(x)_(0, 0) -->\n",
       "<g id=\"node3\" class=\"node\"><title>Symbol(x)_(0, 0)</title>\n",
       "<ellipse fill=\"none\" stroke=\"black\" cx=\"27\" cy=\"-90\" rx=\"27\" ry=\"18\"/>\n",
       "<text text-anchor=\"middle\" x=\"27\" y=\"-86.3\" font-family=\"Times,serif\" font-size=\"14.00\">x</text>\n",
       "</g>\n",
       "<!-- Pow(Symbol(x), Integer(2))_(0,)&#45;&gt;Symbol(x)_(0, 0) -->\n",
       "<g id=\"edge3\" class=\"edge\"><title>Pow(Symbol(x), Integer(2))_(0,)&#45;&gt;Symbol(x)_(0, 0)</title>\n",
       "<path fill=\"none\" stroke=\"black\" d=\"M84.4297,-146.834C74.2501,-136.938 60.4761,-123.546 48.9694,-112.359\"/>\n",
       "<polygon fill=\"black\" stroke=\"black\" points=\"51.4055,-109.846 41.7957,-105.385 46.5259,-114.865 51.4055,-109.846\"/>\n",
       "</g>\n",
       "<!-- Integer(2)_(0, 1) -->\n",
       "<g id=\"node4\" class=\"node\"><title>Integer(2)_(0, 1)</title>\n",
       "<ellipse fill=\"none\" stroke=\"black\" cx=\"99\" cy=\"-90\" rx=\"27\" ry=\"18\"/>\n",
       "<text text-anchor=\"middle\" x=\"99\" y=\"-86.3\" font-family=\"Times,serif\" font-size=\"14.00\">2</text>\n",
       "</g>\n",
       "<!-- Pow(Symbol(x), Integer(2))_(0,)&#45;&gt;Integer(2)_(0, 1) -->\n",
       "<g id=\"edge4\" class=\"edge\"><title>Pow(Symbol(x), Integer(2))_(0,)&#45;&gt;Integer(2)_(0, 1)</title>\n",
       "<path fill=\"none\" stroke=\"black\" d=\"M99,-143.697C99,-135.983 99,-126.712 99,-118.112\"/>\n",
       "<polygon fill=\"black\" stroke=\"black\" points=\"102.5,-118.104 99,-108.104 95.5001,-118.104 102.5,-118.104\"/>\n",
       "</g>\n",
       "<!-- Pow(Symbol(x), Integer(2))_(1, 0) -->\n",
       "<g id=\"node6\" class=\"node\"><title>Pow(Symbol(x), Integer(2))_(1, 0)</title>\n",
       "<ellipse fill=\"none\" stroke=\"black\" cx=\"171\" cy=\"-90\" rx=\"27\" ry=\"18\"/>\n",
       "<text text-anchor=\"middle\" x=\"171\" y=\"-86.3\" font-family=\"Times,serif\" font-size=\"14.00\">Pow</text>\n",
       "</g>\n",
       "<!-- Mul(Pow(Symbol(x), Integer(2)), Add(Integer(5), Symbol(x), Symbol(y)))_(1,)&#45;&gt;Pow(Symbol(x), Integer(2))_(1, 0) -->\n",
       "<g id=\"edge5\" class=\"edge\"><title>Mul(Pow(Symbol(x), Integer(2)), Add(Integer(5), Symbol(x), Symbol(y)))_(1,)&#45;&gt;Pow(Symbol(x), Integer(2))_(1, 0)</title>\n",
       "<path fill=\"none\" stroke=\"black\" d=\"M171,-143.697C171,-135.983 171,-126.712 171,-118.112\"/>\n",
       "<polygon fill=\"black\" stroke=\"black\" points=\"174.5,-118.104 171,-108.104 167.5,-118.104 174.5,-118.104\"/>\n",
       "</g>\n",
       "<!-- Add(Integer(5), Symbol(x), Symbol(y))_(1, 1) -->\n",
       "<g id=\"node9\" class=\"node\"><title>Add(Integer(5), Symbol(x), Symbol(y))_(1, 1)</title>\n",
       "<ellipse fill=\"none\" stroke=\"black\" cx=\"279\" cy=\"-90\" rx=\"27\" ry=\"18\"/>\n",
       "<text text-anchor=\"middle\" x=\"279\" y=\"-86.3\" font-family=\"Times,serif\" font-size=\"14.00\">Add</text>\n",
       "</g>\n",
       "<!-- Mul(Pow(Symbol(x), Integer(2)), Add(Integer(5), Symbol(x), Symbol(y)))_(1,)&#45;&gt;Add(Integer(5), Symbol(x), Symbol(y))_(1, 1) -->\n",
       "<g id=\"edge6\" class=\"edge\"><title>Mul(Pow(Symbol(x), Integer(2)), Add(Integer(5), Symbol(x), Symbol(y)))_(1,)&#45;&gt;Add(Integer(5), Symbol(x), Symbol(y))_(1, 1)</title>\n",
       "<path fill=\"none\" stroke=\"black\" d=\"M189.812,-148.807C207.002,-137.665 232.618,-121.062 251.993,-108.504\"/>\n",
       "<polygon fill=\"black\" stroke=\"black\" points=\"253.916,-111.429 260.403,-103.053 250.108,-105.555 253.916,-111.429\"/>\n",
       "</g>\n",
       "<!-- Symbol(x)_(1, 0, 0) -->\n",
       "<g id=\"node7\" class=\"node\"><title>Symbol(x)_(1, 0, 0)</title>\n",
       "<ellipse fill=\"none\" stroke=\"black\" cx=\"99\" cy=\"-18\" rx=\"27\" ry=\"18\"/>\n",
       "<text text-anchor=\"middle\" x=\"99\" y=\"-14.3\" font-family=\"Times,serif\" font-size=\"14.00\">x</text>\n",
       "</g>\n",
       "<!-- Pow(Symbol(x), Integer(2))_(1, 0)&#45;&gt;Symbol(x)_(1, 0, 0) -->\n",
       "<g id=\"edge7\" class=\"edge\"><title>Pow(Symbol(x), Integer(2))_(1, 0)&#45;&gt;Symbol(x)_(1, 0, 0)</title>\n",
       "<path fill=\"none\" stroke=\"black\" d=\"M156.43,-74.8345C146.25,-64.9376 132.476,-51.5462 120.969,-40.3591\"/>\n",
       "<polygon fill=\"black\" stroke=\"black\" points=\"123.405,-37.8461 113.796,-33.3847 118.526,-42.865 123.405,-37.8461\"/>\n",
       "</g>\n",
       "<!-- Integer(2)_(1, 0, 1) -->\n",
       "<g id=\"node8\" class=\"node\"><title>Integer(2)_(1, 0, 1)</title>\n",
       "<ellipse fill=\"none\" stroke=\"black\" cx=\"171\" cy=\"-18\" rx=\"27\" ry=\"18\"/>\n",
       "<text text-anchor=\"middle\" x=\"171\" y=\"-14.3\" font-family=\"Times,serif\" font-size=\"14.00\">2</text>\n",
       "</g>\n",
       "<!-- Pow(Symbol(x), Integer(2))_(1, 0)&#45;&gt;Integer(2)_(1, 0, 1) -->\n",
       "<g id=\"edge8\" class=\"edge\"><title>Pow(Symbol(x), Integer(2))_(1, 0)&#45;&gt;Integer(2)_(1, 0, 1)</title>\n",
       "<path fill=\"none\" stroke=\"black\" d=\"M171,-71.6966C171,-63.9827 171,-54.7125 171,-46.1124\"/>\n",
       "<polygon fill=\"black\" stroke=\"black\" points=\"174.5,-46.1043 171,-36.1043 167.5,-46.1044 174.5,-46.1043\"/>\n",
       "</g>\n",
       "<!-- Integer(5)_(1, 1, 0) -->\n",
       "<g id=\"node10\" class=\"node\"><title>Integer(5)_(1, 1, 0)</title>\n",
       "<ellipse fill=\"none\" stroke=\"black\" cx=\"243\" cy=\"-18\" rx=\"27\" ry=\"18\"/>\n",
       "<text text-anchor=\"middle\" x=\"243\" y=\"-14.3\" font-family=\"Times,serif\" font-size=\"14.00\">5</text>\n",
       "</g>\n",
       "<!-- Add(Integer(5), Symbol(x), Symbol(y))_(1, 1)&#45;&gt;Integer(5)_(1, 1, 0) -->\n",
       "<g id=\"edge9\" class=\"edge\"><title>Add(Integer(5), Symbol(x), Symbol(y))_(1, 1)&#45;&gt;Integer(5)_(1, 1, 0)</title>\n",
       "<path fill=\"none\" stroke=\"black\" d=\"M270.65,-72.7646C266.288,-64.2831 260.853,-53.7144 255.959,-44.1974\"/>\n",
       "<polygon fill=\"black\" stroke=\"black\" points=\"258.99,-42.4395 251.304,-35.1473 252.765,-45.6409 258.99,-42.4395\"/>\n",
       "</g>\n",
       "<!-- Symbol(x)_(1, 1, 1) -->\n",
       "<g id=\"node11\" class=\"node\"><title>Symbol(x)_(1, 1, 1)</title>\n",
       "<ellipse fill=\"none\" stroke=\"black\" cx=\"315\" cy=\"-18\" rx=\"27\" ry=\"18\"/>\n",
       "<text text-anchor=\"middle\" x=\"315\" y=\"-14.3\" font-family=\"Times,serif\" font-size=\"14.00\">x</text>\n",
       "</g>\n",
       "<!-- Add(Integer(5), Symbol(x), Symbol(y))_(1, 1)&#45;&gt;Symbol(x)_(1, 1, 1) -->\n",
       "<g id=\"edge10\" class=\"edge\"><title>Add(Integer(5), Symbol(x), Symbol(y))_(1, 1)&#45;&gt;Symbol(x)_(1, 1, 1)</title>\n",
       "<path fill=\"none\" stroke=\"black\" d=\"M287.35,-72.7646C291.712,-64.2831 297.147,-53.7144 302.041,-44.1974\"/>\n",
       "<polygon fill=\"black\" stroke=\"black\" points=\"305.235,-45.6409 306.696,-35.1473 299.01,-42.4395 305.235,-45.6409\"/>\n",
       "</g>\n",
       "<!-- Symbol(y)_(1, 1, 2) -->\n",
       "<g id=\"node12\" class=\"node\"><title>Symbol(y)_(1, 1, 2)</title>\n",
       "<ellipse fill=\"none\" stroke=\"black\" cx=\"387\" cy=\"-18\" rx=\"27\" ry=\"18\"/>\n",
       "<text text-anchor=\"middle\" x=\"387\" y=\"-14.3\" font-family=\"Times,serif\" font-size=\"14.00\">y</text>\n",
       "</g>\n",
       "<!-- Add(Integer(5), Symbol(x), Symbol(y))_(1, 1)&#45;&gt;Symbol(y)_(1, 1, 2) -->\n",
       "<g id=\"edge11\" class=\"edge\"><title>Add(Integer(5), Symbol(x), Symbol(y))_(1, 1)&#45;&gt;Symbol(y)_(1, 1, 2)</title>\n",
       "<path fill=\"none\" stroke=\"black\" d=\"M297.812,-76.8069C315.002,-65.6653 340.618,-49.0622 359.993,-36.5043\"/>\n",
       "<polygon fill=\"black\" stroke=\"black\" points=\"361.916,-39.4294 368.403,-31.0533 358.108,-33.5553 361.916,-39.4294\"/>\n",
       "</g>\n",
       "</g>\n",
       "</svg>\n"
      ],
      "text/plain": [
       "<graphviz.files.Source at 0x7f72368cf1d0>"
      ]
     },
     "execution_count": 19,
     "metadata": {},
     "output_type": "execute_result"
    }
   ],
   "source": [
    "ps.to_dot(expr, graph_style={'size': \"9.5,12.5\"} )"
   ]
  },
  {
   "cell_type": "markdown",
   "metadata": {},
   "source": [
    "Programatically the children node type is acessible as ``expr.func`` and its children as ``expr.args``.\n",
    "With these members a tree can be traversed and modified."
   ]
  },
  {
   "cell_type": "code",
   "execution_count": 20,
   "metadata": {},
   "outputs": [
    {
     "data": {
      "text/plain": [
       "sympy.core.add.Add"
      ]
     },
     "execution_count": 20,
     "metadata": {},
     "output_type": "execute_result"
    }
   ],
   "source": [
    "expr.func"
   ]
  },
  {
   "cell_type": "code",
   "execution_count": 21,
   "metadata": {},
   "outputs": [
    {
     "data": {
      "image/png": "[encoded data removed]",
      "text/latex": [
       "$$\\left ( x^{2}, \\quad x^{2} \\left(x + y + 5\\right)\\right )$$"
      ],
      "text/plain": [
       "⎛ 2   2            ⎞\n",
       "⎝x , x ⋅(x + y + 5)⎠"
      ]
     },
     "execution_count": 21,
     "metadata": {},
     "output_type": "execute_result"
    }
   ],
   "source": [
    "expr.args"
   ]
  },
  {
   "cell_type": "markdown",
   "metadata": {},
   "source": [
    "## Using *pystencils* \n",
    "\n",
    "\n",
    "### Fields\n",
    "\n",
    "*pystencils* is a module to generate code for stencil operations. \n",
    "One has to specify an update rule for each element of an array, with optional dependencies to neighbors.\n",
    "This is done use pure *sympy* with one addition: **Fields**.\n",
    "\n",
    "Fields represent a multidimensional array, where some dimensions are considered *spatial*, and some as *index* dimensions. Spatial coordinates are given relative (i.e. one can specify \"the current cell\" and \"the left neighbor\") whereas index dimensions are used to index multiple values per cell."
   ]
  },
  {
   "cell_type": "code",
   "execution_count": 22,
   "metadata": {},
   "outputs": [],
   "source": [
    "my_field = ps.Field.create_generic('f', spatial_dimensions=2, index_shape=(3,))\n",
    "# or equivalently:\n",
    "my_field = ps.fields(\"f(3) : double[2D]\")"
   ]
  },
  {
   "cell_type": "markdown",
   "metadata": {},
   "source": [
    "Neighbors are labeled according to points on a compass where the first coordinate is west/east, second coordinate north/south and third coordinate top/bottom. "
   ]
  },
  {
   "cell_type": "code",
   "execution_count": 23,
   "metadata": {},
   "outputs": [
    {
     "data": {
      "image/png": "[encoded data removed]",
      "text/latex": [
       "$${{f}_{(1,0)}^{1}}$$"
      ],
      "text/plain": [
       "f_E__1"
      ]
     },
     "execution_count": 23,
     "metadata": {},
     "output_type": "execute_result"
    }
   ],
   "source": [
    "field_access = my_field[1, 0](1)\n",
    "field_access"
   ]
  },
  {
   "cell_type": "markdown",
   "metadata": {},
   "source": [
    "The result of indexing a field is an instance of ``Field.Access``. This class is a subclass of a *sympy* Symbol and thus can be used whereever normal symbols can be used. It is just like a normal symbol with some additional information attached to it."
   ]
  },
  {
   "cell_type": "code",
   "execution_count": 24,
   "metadata": {},
   "outputs": [
    {
     "data": {
      "text/plain": [
       "True"
      ]
     },
     "execution_count": 24,
     "metadata": {},
     "output_type": "execute_result"
    }
   ],
   "source": [
    "isinstance(field_access, sp.Symbol)"
   ]
  },
  {
   "cell_type": "markdown",
   "metadata": {},
   "source": [
    "### Building our first stencil kernel\n",
    "\n",
    "Lets start by building a simple filter kernel. We create a field representing an image, then define a edge detection filter on the third pixel component which is blue for an RGB image."
   ]
  },
  {
   "cell_type": "code",
   "execution_count": 25,
   "metadata": {},
   "outputs": [],
   "source": [
    "img_field = ps.Field.create_generic('img', \n",
    "                                    spatial_dimensions=2, # 2D image \n",
    "                                    index_dimensions=1)   # multiple values per pixel: e.g. RGB"
   ]
  },
  {
   "cell_type": "code",
   "execution_count": 26,
   "metadata": {},
   "outputs": [
    {
     "data": {
      "image/png": "[encoded data removed]",
      "text/latex": [
       "$$\\left(- {{img}_{(-1,-1)}^{2}} w_{1} - {{img}_{(-1,0)}^{2}} w_{2} - {{img}_{(-1,1)}^{2}} w_{1} + {{img}_{(1,-1)}^{2}} w_{1} + {{img}_{(1,0)}^{2}} w_{2} - {{img}_{(1,1)}^{2}} w_{1}\\right)^{2}$$"
      ],
      "text/plain": [
       "                                                                              \n",
       "(-img_SW__2⋅w₁ - img_W__2⋅w₂ - img_NW__2⋅w₁ + img_SE__2⋅w₁ + img_E__2⋅w₂ - img\n",
       "\n",
       "          2\n",
       "_NE__2⋅w₁) "
      ]
     },
     "execution_count": 26,
     "metadata": {},
     "output_type": "execute_result"
    }
   ],
   "source": [
    "w1, w2 = sp.symbols(\"w_1 w_2\")\n",
    "color = 2\n",
    "sobel_x = (-w2 * img_field[-1,0](color) - w1 * img_field[-1,-1](color) - w1 * img_field[-1, +1](color) \\\n",
    "           +w2 * img_field[+1,0](color) + w1 * img_field[+1,-1](color) - w1 * img_field[+1, +1](color))**2\n",
    "sobel_x"
   ]
  },
  {
   "cell_type": "markdown",
   "metadata": {},
   "source": [
    "We have mixed some standard *sympy* symbols into this expression to possibly give the different directions different weights. The complete expression is still a valid *sympy* expression, so all features of *sympy* work on it. Lets for example now fix one weight by substituting it with a constant."
   ]
  },
  {
   "cell_type": "code",
   "execution_count": 27,
   "metadata": {},
   "outputs": [
    {
     "data": {
      "image/png": "[encoded data removed]",
      "text/latex": [
       "$$\\left(- 0.5 {{img}_{(-1,-1)}^{2}} - {{img}_{(-1,0)}^{2}} w_{2} - 0.5 {{img}_{(-1,1)}^{2}} + 0.5 {{img}_{(1,-1)}^{2}} + {{img}_{(1,0)}^{2}} w_{2} - 0.5 {{img}_{(1,1)}^{2}}\\right)^{2}$$"
      ],
      "text/plain": [
       "                                                                              \n",
       "(-0.5⋅img_SW__2 - img_W__2⋅w₂ - 0.5⋅img_NW__2 + 0.5⋅img_SE__2 + img_E__2⋅w₂ - \n",
       "\n",
       "              2\n",
       "0.5⋅img_NE__2) "
      ]
     },
     "execution_count": 27,
     "metadata": {},
     "output_type": "execute_result"
    }
   ],
   "source": [
    "sobel_x = sobel_x.subs(w1, 0.5)\n",
    "sobel_x"
   ]
  },
  {
   "cell_type": "markdown",
   "metadata": {},
   "source": [
    "Now lets built an executable kernel out of it, which writes the result to a second field. Assignments are created using *pystencils* `Assignment` class, that gets the left- and right hand side of the assignment."
   ]
  },
  {
   "cell_type": "code",
   "execution_count": 28,
   "metadata": {},
   "outputs": [
    {
     "data": {
      "image/png": "[encoded data removed]",
      "text/latex": [
       "$${{dst}_{(0,0)}} \\leftarrow \\left(- 0.5 {{img}_{(-1,-1)}^{2}} - {{img}_{(-1,0)}^{2}} w_{2} - 0.5 {{img}_{(-1,1)}^{2}} + 0.5 {{img}_{(1,-1)}^{2}} + {{img}_{(1,0)}^{2}} w_{2} - 0.5 {{img}_{(1,1)}^{2}}\\right)^{2}$$"
      ],
      "text/plain": [
       "                                                                              \n",
       "dst_C := (-0.5⋅img_SW__2 - img_W__2⋅w₂ - 0.5⋅img_NW__2 + 0.5⋅img_SE__2 + img_E\n",
       "\n",
       "                       2\n",
       "__2⋅w₂ - 0.5⋅img_NE__2) "
      ]
     },
     "execution_count": 28,
     "metadata": {},
     "output_type": "execute_result"
    }
   ],
   "source": [
    "dst_field = ps.fields('dst: [2D]' )\n",
    "update_rule = ps.Assignment(dst_field[0,0], sobel_x)\n",
    "update_rule"
   ]
  },
  {
   "cell_type": "markdown",
   "metadata": {},
   "source": [
    "Next we can see *pystencils* in action which creates a kernel for us."
   ]
  },
  {
   "cell_type": "code",
   "execution_count": 29,
   "metadata": {},
   "outputs": [],
   "source": [
    "from pystencils import create_kernel\n",
    "ast = create_kernel(update_rule, cpu_openmp=False)\n",
    "compiled_kernel = ast.compile()"
   ]
  },
  {
   "cell_type": "markdown",
   "metadata": {},
   "source": [
    "This compiled kernel is now just an ordinary Python function. \n",
    "Now lets grab an image to apply this filter to:"
   ]
  },
  {
   "cell_type": "code",
   "execution_count": 30,
   "metadata": {},
   "outputs": [
    {
     "data": {
      "image/png": "[encoded data removed]",
      "text/plain": [
       "<Figure size 1152x432 with 1 Axes>"
      ]
     },
     "metadata": {},
     "output_type": "display_data"
    }
   ],
   "source": [
    "import requests\n",
    "import imageio\n",
    "from io import BytesIO\n",
    "\n",
    "response = requests.get(\"https://www.python.org/static/img/python-logo.png\")\n",
    "img = imageio.imread(BytesIO(response.content)).astype(np.double)\n",
    "img /= img.max()\n",
    "plt.imshow(img);"
   ]
  },
  {
   "cell_type": "code",
   "execution_count": 31,
   "metadata": {},
   "outputs": [
    {
     "data": {
      "image/png": "[encoded data removed]",
      "text/plain": [
       "<Figure size 1152x432 with 1 Axes>"
      ]
     },
     "metadata": {},
     "output_type": "display_data"
    }
   ],
   "source": [
    "filtered_image = np.zeros_like(img[..., 0])\n",
    "# here we call the compiled stencil function\n",
    "compiled_kernel(img=img, dst=filtered_image, w_2=0.5)\n",
    "plt.imshow(filtered_image, cmap='gray');"
   ]
  },
  {
   "cell_type": "markdown",
   "metadata": {},
   "source": [
    "### Digging into *pystencils*\n",
    "\n",
    "On our way we have created an ``ast``-object. We can inspect this, to see what *pystencils* actually does."
   ]
  },
  {
   "cell_type": "code",
   "execution_count": 32,
   "metadata": {},
   "outputs": [
    {
     "data": {
      "image/svg+xml": [
       "<?xml version=\"1.0\" encoding=\"UTF-8\" standalone=\"no\"?>\n",
       "<!DOCTYPE svg PUBLIC \"-//W3C//DTD SVG 1.1//EN\"\n",
       " \"http://www.w3.org/Graphics/SVG/1.1/DTD/svg11.dtd\">\n",
       "<!-- Generated by graphviz version 2.38.0 (20140413.2041)\n",
       " -->\n",
       "<!-- Title: %3 Pages: 1 -->\n",
       "<svg width=\"684pt\" height=\"228pt\"\n",
       " viewBox=\"0.00 0.00 684.00 227.95\" xmlns=\"http://www.w3.org/2000/svg\" xmlns:xlink=\"http://www.w3.org/1999/xlink\">\n",
       "<g id=\"graph0\" class=\"graph\" transform=\"scale(0.478879 0.478879) rotate(0) translate(4 472)\">\n",
       "<title>%3</title>\n",
       "<polygon fill=\"white\" stroke=\"none\" points=\"-4,4 -4,-472 1424.34,-472 1424.34,4 -4,4\"/>\n",
       "<!-- 140128518376696 -->\n",
       "<g id=\"node1\" class=\"node\"><title>140128518376696</title>\n",
       "<ellipse fill=\"#a056db\" stroke=\"black\" cx=\"548.645\" cy=\"-450\" rx=\"107.781\" ry=\"18\"/>\n",
       "<text text-anchor=\"middle\" x=\"548.645\" y=\"-446.3\" font-family=\"Times,serif\" font-size=\"14.00\">Func: kernel (dst,img,w_2)</text>\n",
       "</g>\n",
       "<!-- 140128518374232 -->\n",
       "<g id=\"node18\" class=\"node\"><title>140128518374232</title>\n",
       "<ellipse fill=\"#dbc256\" stroke=\"black\" cx=\"548.645\" cy=\"-378\" rx=\"31.6951\" ry=\"18\"/>\n",
       "<text text-anchor=\"middle\" x=\"548.645\" y=\"-374.3\" font-family=\"Times,serif\" font-size=\"14.00\">Block</text>\n",
       "</g>\n",
       "<!-- 140128518376696&#45;&gt;140128518374232 -->\n",
       "<g id=\"edge17\" class=\"edge\"><title>140128518376696&#45;&gt;140128518374232</title>\n",
       "<path fill=\"none\" stroke=\"black\" d=\"M548.645,-431.697C548.645,-423.983 548.645,-414.712 548.645,-406.112\"/>\n",
       "<polygon fill=\"black\" stroke=\"black\" points=\"552.145,-406.104 548.645,-396.104 545.145,-406.104 552.145,-406.104\"/>\n",
       "</g>\n",
       "<!-- 140128521227960 -->\n",
       "<g id=\"node2\" class=\"node\"><title>140128521227960</title>\n",
       "<ellipse fill=\"#56db7f\" stroke=\"black\" cx=\"52.6453\" cy=\"-306\" rx=\"52.7911\" ry=\"18\"/>\n",
       "<text text-anchor=\"middle\" x=\"52.6453\" y=\"-302.3\" font-family=\"Times,serif\" font-size=\"14.00\">fshape_dst0</text>\n",
       "</g>\n",
       "<!-- 140128518531728 -->\n",
       "<g id=\"node3\" class=\"node\"><title>140128518531728</title>\n",
       "<ellipse fill=\"#56db7f\" stroke=\"black\" cx=\"175.645\" cy=\"-306\" rx=\"52.7911\" ry=\"18\"/>\n",
       "<text text-anchor=\"middle\" x=\"175.645\" y=\"-302.3\" font-family=\"Times,serif\" font-size=\"14.00\">fshape_dst1</text>\n",
       "</g>\n",
       "<!-- 140128518529824 -->\n",
       "<g id=\"node4\" class=\"node\"><title>140128518529824</title>\n",
       "<ellipse fill=\"#56db7f\" stroke=\"black\" cx=\"298.645\" cy=\"-306\" rx=\"51.9908\" ry=\"18\"/>\n",
       "<text text-anchor=\"middle\" x=\"298.645\" y=\"-302.3\" font-family=\"Times,serif\" font-size=\"14.00\">fstride_dst0</text>\n",
       "</g>\n",
       "<!-- 140128518530272 -->\n",
       "<g id=\"node5\" class=\"node\"><title>140128518530272</title>\n",
       "<ellipse fill=\"#56db7f\" stroke=\"black\" cx=\"424.645\" cy=\"-306\" rx=\"55.7903\" ry=\"18\"/>\n",
       "<text text-anchor=\"middle\" x=\"424.645\" y=\"-302.3\" font-family=\"Times,serif\" font-size=\"14.00\">fstride_img2</text>\n",
       "</g>\n",
       "<!-- 140128521226336 -->\n",
       "<g id=\"node6\" class=\"node\"><title>140128521226336</title>\n",
       "<ellipse fill=\"#56db7f\" stroke=\"black\" cx=\"548.645\" cy=\"-306\" rx=\"50.0912\" ry=\"18\"/>\n",
       "<text text-anchor=\"middle\" x=\"548.645\" y=\"-302.3\" font-family=\"Times,serif\" font-size=\"14.00\">fd_img_22</text>\n",
       "</g>\n",
       "<!-- 140128518529936 -->\n",
       "<g id=\"node7\" class=\"node\"><title>140128518529936</title>\n",
       "<ellipse fill=\"#56db7f\" stroke=\"black\" cx=\"672.645\" cy=\"-306\" rx=\"55.7903\" ry=\"18\"/>\n",
       "<text text-anchor=\"middle\" x=\"672.645\" y=\"-302.3\" font-family=\"Times,serif\" font-size=\"14.00\">fstride_img0</text>\n",
       "</g>\n",
       "<!-- 140128521606088 -->\n",
       "<g id=\"node8\" class=\"node\"><title>140128521606088</title>\n",
       "<ellipse fill=\"#56db7f\" stroke=\"black\" cx=\"802.645\" cy=\"-306\" rx=\"55.7903\" ry=\"18\"/>\n",
       "<text text-anchor=\"middle\" x=\"802.645\" y=\"-302.3\" font-family=\"Times,serif\" font-size=\"14.00\">fstride_img1</text>\n",
       "</g>\n",
       "<!-- 140128521605920 -->\n",
       "<g id=\"node9\" class=\"node\"><title>140128521605920</title>\n",
       "<ellipse fill=\"#56db7f\" stroke=\"black\" cx=\"928.645\" cy=\"-306\" rx=\"51.9908\" ry=\"18\"/>\n",
       "<text text-anchor=\"middle\" x=\"928.645\" y=\"-302.3\" font-family=\"Times,serif\" font-size=\"14.00\">fstride_dst1</text>\n",
       "</g>\n",
       "<!-- 140128518375128 -->\n",
       "<g id=\"node10\" class=\"node\"><title>140128518375128</title>\n",
       "<ellipse fill=\"#3498db\" stroke=\"black\" cx=\"1069.65\" cy=\"-306\" rx=\"70.6878\" ry=\"18\"/>\n",
       "<text text-anchor=\"middle\" x=\"1069.65\" y=\"-302.3\" font-family=\"Times,serif\" font-size=\"14.00\">Loop over dim 0</text>\n",
       "</g>\n",
       "<!-- 140128518377256 -->\n",
       "<g id=\"node17\" class=\"node\"><title>140128518377256</title>\n",
       "<ellipse fill=\"#dbc256\" stroke=\"black\" cx=\"1069.65\" cy=\"-234\" rx=\"31.6951\" ry=\"18\"/>\n",
       "<text text-anchor=\"middle\" x=\"1069.65\" y=\"-230.3\" font-family=\"Times,serif\" font-size=\"14.00\">Block</text>\n",
       "</g>\n",
       "<!-- 140128518375128&#45;&gt;140128518377256 -->\n",
       "<g id=\"edge7\" class=\"edge\"><title>140128518375128&#45;&gt;140128518377256</title>\n",
       "<path fill=\"none\" stroke=\"black\" d=\"M1069.65,-287.697C1069.65,-279.983 1069.65,-270.712 1069.65,-262.112\"/>\n",
       "<polygon fill=\"black\" stroke=\"black\" points=\"1073.15,-262.104 1069.65,-252.104 1066.15,-262.104 1073.15,-262.104\"/>\n",
       "</g>\n",
       "<!-- 140128515805024 -->\n",
       "<g id=\"node11\" class=\"node\"><title>140128515805024</title>\n",
       "<ellipse fill=\"#56db7f\" stroke=\"black\" cx=\"867.645\" cy=\"-162\" rx=\"46.2923\" ry=\"18\"/>\n",
       "<text text-anchor=\"middle\" x=\"867.645\" y=\"-158.3\" font-family=\"Times,serif\" font-size=\"14.00\">fd_dst_00</text>\n",
       "</g>\n",
       "<!-- 140128521226672 -->\n",
       "<g id=\"node12\" class=\"node\"><title>140128521226672</title>\n",
       "<ellipse fill=\"#56db7f\" stroke=\"black\" cx=\"994.645\" cy=\"-162\" rx=\"63.0888\" ry=\"18\"/>\n",
       "<text text-anchor=\"middle\" x=\"994.645\" y=\"-158.3\" font-family=\"Times,serif\" font-size=\"14.00\">fd_img_22_01</text>\n",
       "</g>\n",
       "<!-- 140128521224992 -->\n",
       "<g id=\"node13\" class=\"node\"><title>140128521224992</title>\n",
       "<ellipse fill=\"#56db7f\" stroke=\"black\" cx=\"1145.65\" cy=\"-162\" rx=\"70.3881\" ry=\"18\"/>\n",
       "<text text-anchor=\"middle\" x=\"1145.65\" y=\"-158.3\" font-family=\"Times,serif\" font-size=\"14.00\">fd_img_22_0m1</text>\n",
       "</g>\n",
       "<!-- 140128518376304 -->\n",
       "<g id=\"node14\" class=\"node\"><title>140128518376304</title>\n",
       "<ellipse fill=\"#3498db\" stroke=\"black\" cx=\"1304.65\" cy=\"-162\" rx=\"70.6878\" ry=\"18\"/>\n",
       "<text text-anchor=\"middle\" x=\"1304.65\" y=\"-158.3\" font-family=\"Times,serif\" font-size=\"14.00\">Loop over dim 1</text>\n",
       "</g>\n",
       "<!-- 140128518374736 -->\n",
       "<g id=\"node16\" class=\"node\"><title>140128518374736</title>\n",
       "<ellipse fill=\"#dbc256\" stroke=\"black\" cx=\"1304.65\" cy=\"-90\" rx=\"31.6951\" ry=\"18\"/>\n",
       "<text text-anchor=\"middle\" x=\"1304.65\" y=\"-86.3\" font-family=\"Times,serif\" font-size=\"14.00\">Block</text>\n",
       "</g>\n",
       "<!-- 140128518376304&#45;&gt;140128518374736 -->\n",
       "<g id=\"edge2\" class=\"edge\"><title>140128518376304&#45;&gt;140128518374736</title>\n",
       "<path fill=\"none\" stroke=\"black\" d=\"M1304.65,-143.697C1304.65,-135.983 1304.65,-126.712 1304.65,-118.112\"/>\n",
       "<polygon fill=\"black\" stroke=\"black\" points=\"1308.15,-118.104 1304.65,-108.104 1301.15,-118.104 1308.15,-118.104\"/>\n",
       "</g>\n",
       "<!-- 140128518373896 -->\n",
       "<g id=\"node15\" class=\"node\"><title>140128518373896</title>\n",
       "<ellipse fill=\"#56db7f\" stroke=\"black\" cx=\"1304.65\" cy=\"-18\" rx=\"115.88\" ry=\"18\"/>\n",
       "<text text-anchor=\"middle\" x=\"1304.65\" y=\"-14.3\" font-family=\"Times,serif\" font-size=\"14.00\">fd_dst_00[ctr_1*fstride_dst1]</text>\n",
       "</g>\n",
       "<!-- 140128518374736&#45;&gt;140128518373896 -->\n",
       "<g id=\"edge1\" class=\"edge\"><title>140128518374736&#45;&gt;140128518373896</title>\n",
       "<path fill=\"none\" stroke=\"black\" d=\"M1304.65,-71.6966C1304.65,-63.9827 1304.65,-54.7125 1304.65,-46.1124\"/>\n",
       "<polygon fill=\"black\" stroke=\"black\" points=\"1308.15,-46.1043 1304.65,-36.1043 1301.15,-46.1044 1308.15,-46.1043\"/>\n",
       "</g>\n",
       "<!-- 140128518377256&#45;&gt;140128515805024 -->\n",
       "<g id=\"edge3\" class=\"edge\"><title>140128518377256&#45;&gt;140128515805024</title>\n",
       "<path fill=\"none\" stroke=\"black\" d=\"M1043.24,-223.849C1009.55,-212.174 950.841,-191.83 910.656,-177.905\"/>\n",
       "<polygon fill=\"black\" stroke=\"black\" points=\"911.713,-174.567 901.118,-174.6 909.421,-181.181 911.713,-174.567\"/>\n",
       "</g>\n",
       "<!-- 140128518377256&#45;&gt;140128521226672 -->\n",
       "<g id=\"edge4\" class=\"edge\"><title>140128518377256&#45;&gt;140128521226672</title>\n",
       "<path fill=\"none\" stroke=\"black\" d=\"M1053.74,-218.155C1043.89,-208.959 1031.02,-196.949 1019.81,-186.484\"/>\n",
       "<polygon fill=\"black\" stroke=\"black\" points=\"1022.06,-183.804 1012.37,-179.539 1017.29,-188.921 1022.06,-183.804\"/>\n",
       "</g>\n",
       "<!-- 140128518377256&#45;&gt;140128521224992 -->\n",
       "<g id=\"edge5\" class=\"edge\"><title>140128518377256&#45;&gt;140128521224992</title>\n",
       "<path fill=\"none\" stroke=\"black\" d=\"M1085.76,-218.155C1095.75,-208.959 1108.79,-196.949 1120.15,-186.484\"/>\n",
       "<polygon fill=\"black\" stroke=\"black\" points=\"1122.7,-188.888 1127.69,-179.539 1117.96,-183.74 1122.7,-188.888\"/>\n",
       "</g>\n",
       "<!-- 140128518377256&#45;&gt;140128518376304 -->\n",
       "<g id=\"edge6\" class=\"edge\"><title>140128518377256&#45;&gt;140128518376304</title>\n",
       "<path fill=\"none\" stroke=\"black\" d=\"M1097.06,-224.833C1134.67,-213.631 1203.04,-193.265 1251.01,-178.976\"/>\n",
       "<polygon fill=\"black\" stroke=\"black\" points=\"1252.04,-182.323 1260.62,-176.114 1250.04,-175.614 1252.04,-182.323\"/>\n",
       "</g>\n",
       "<!-- 140128518374232&#45;&gt;140128521227960 -->\n",
       "<g id=\"edge8\" class=\"edge\"><title>140128518374232&#45;&gt;140128521227960</title>\n",
       "<path fill=\"none\" stroke=\"black\" d=\"M517.269,-374.807C445.344,-369.425 263.248,-353.784 113.645,-324 109.46,-323.167 105.142,-322.196 100.828,-321.147\"/>\n",
       "<polygon fill=\"black\" stroke=\"black\" points=\"101.386,-317.677 90.8305,-318.59 99.6511,-324.459 101.386,-317.677\"/>\n",
       "</g>\n",
       "<!-- 140128518374232&#45;&gt;140128518531728 -->\n",
       "<g id=\"edge9\" class=\"edge\"><title>140128518374232&#45;&gt;140128518531728</title>\n",
       "<path fill=\"none\" stroke=\"black\" d=\"M517.991,-372.803C461.987,-364.907 339.511,-346.587 237.645,-324 233.299,-323.036 228.801,-321.96 224.305,-320.83\"/>\n",
       "<polygon fill=\"black\" stroke=\"black\" points=\"225.084,-317.416 214.526,-318.292 223.326,-324.192 225.084,-317.416\"/>\n",
       "</g>\n",
       "<!-- 140128518374232&#45;&gt;140128518529824 -->\n",
       "<g id=\"edge10\" class=\"edge\"><title>140128518374232&#45;&gt;140128518529824</title>\n",
       "<path fill=\"none\" stroke=\"black\" d=\"M520.453,-369.106C478.552,-357.374 399.258,-335.172 347.708,-320.738\"/>\n",
       "<polygon fill=\"black\" stroke=\"black\" points=\"348.361,-317.286 337.787,-317.96 346.473,-324.026 348.361,-317.286\"/>\n",
       "</g>\n",
       "<!-- 140128518374232&#45;&gt;140128518530272 -->\n",
       "<g id=\"edge11\" class=\"edge\"><title>140128518374232&#45;&gt;140128518530272</title>\n",
       "<path fill=\"none\" stroke=\"black\" d=\"M526.762,-364.647C508.268,-354.206 481.428,-339.055 459.905,-326.905\"/>\n",
       "<polygon fill=\"black\" stroke=\"black\" points=\"461.476,-323.772 451.047,-321.904 458.035,-329.868 461.476,-323.772\"/>\n",
       "</g>\n",
       "<!-- 140128518374232&#45;&gt;140128521226336 -->\n",
       "<g id=\"edge12\" class=\"edge\"><title>140128518374232&#45;&gt;140128521226336</title>\n",
       "<path fill=\"none\" stroke=\"black\" d=\"M548.645,-359.697C548.645,-351.983 548.645,-342.712 548.645,-334.112\"/>\n",
       "<polygon fill=\"black\" stroke=\"black\" points=\"552.145,-334.104 548.645,-324.104 545.145,-334.104 552.145,-334.104\"/>\n",
       "</g>\n",
       "<!-- 140128518374232&#45;&gt;140128518529936 -->\n",
       "<g id=\"edge13\" class=\"edge\"><title>140128518374232&#45;&gt;140128518529936</title>\n",
       "<path fill=\"none\" stroke=\"black\" d=\"M570.529,-364.647C589.023,-354.206 615.863,-339.055 637.385,-326.905\"/>\n",
       "<polygon fill=\"black\" stroke=\"black\" points=\"639.256,-329.868 646.244,-321.904 635.815,-323.772 639.256,-329.868\"/>\n",
       "</g>\n",
       "<!-- 140128518374232&#45;&gt;140128521606088 -->\n",
       "<g id=\"edge14\" class=\"edge\"><title>140128518374232&#45;&gt;140128521606088</title>\n",
       "<path fill=\"none\" stroke=\"black\" d=\"M576.798,-369.241C618.904,-357.637 698.948,-335.578 751.55,-321.081\"/>\n",
       "<polygon fill=\"black\" stroke=\"black\" points=\"752.651,-324.409 761.361,-318.377 750.791,-317.66 752.651,-324.409\"/>\n",
       "</g>\n",
       "<!-- 140128518374232&#45;&gt;140128521605920 -->\n",
       "<g id=\"edge15\" class=\"edge\"><title>140128518374232&#45;&gt;140128521605920</title>\n",
       "<path fill=\"none\" stroke=\"black\" d=\"M579.651,-372.974C636.911,-365.291 762.959,-347.214 867.645,-324 871.811,-323.076 876.116,-322.042 880.422,-320.952\"/>\n",
       "<polygon fill=\"black\" stroke=\"black\" points=\"881.622,-324.255 890.406,-318.332 879.845,-317.484 881.622,-324.255\"/>\n",
       "</g>\n",
       "<!-- 140128518374232&#45;&gt;140128518375128 -->\n",
       "<g id=\"edge16\" class=\"edge\"><title>140128518374232&#45;&gt;140128518375128</title>\n",
       "<path fill=\"none\" stroke=\"black\" d=\"M579.792,-374.227C652.08,-367.579 836.74,-349.382 989.645,-324 995.804,-322.978 1002.21,-321.805 1008.59,-320.564\"/>\n",
       "<polygon fill=\"black\" stroke=\"black\" points=\"1009.44,-323.962 1018.56,-318.569 1008.07,-317.098 1009.44,-323.962\"/>\n",
       "</g>\n",
       "</g>\n",
       "</svg>\n"
      ],
      "text/plain": [
       "<graphviz.files.Source at 0x7f7233545a58>"
      ]
     },
     "execution_count": 32,
     "metadata": {},
     "output_type": "execute_result"
    }
   ],
   "source": [
    "ps.to_dot(ast, graph_style={'size': \"9.5,12.5\"})"
   ]
  },
  {
   "cell_type": "markdown",
   "metadata": {},
   "source": [
    "*pystencils* also builds a tree structure of the program, where each `Assignment` node internally again has a *sympy* AST which is not printed here. Out of this representation *C* code can be generated:"
   ]
  },
  {
   "cell_type": "code",
   "execution_count": 33,
   "metadata": {},
   "outputs": [
    {
     "data": {
      "text/html": [
       "<style>.highlight .hll { background-color: #ffffcc }\n",
       ".highlight  { background: #f8f8f8; }\n",
       ".highlight .c { color: #408080; font-style: italic } /* Comment */\n",
       ".highlight .err { border: 1px solid #FF0000 } /* Error */\n",
       ".highlight .k { color: #008000; font-weight: bold } /* Keyword */\n",
       ".highlight .o { color: #666666 } /* Operator */\n",
       ".highlight .ch { color: #408080; font-style: italic } /* Comment.Hashbang */\n",
       ".highlight .cm { color: #408080; font-style: italic } /* Comment.Multiline */\n",
       ".highlight .cp { color: #BC7A00 } /* Comment.Preproc */\n",
       ".highlight .cpf { color: #408080; font-style: italic } /* Comment.PreprocFile */\n",
       ".highlight .c1 { color: #408080; font-style: italic } /* Comment.Single */\n",
       ".highlight .cs { color: #408080; font-style: italic } /* Comment.Special */\n",
       ".highlight .gd { color: #A00000 } /* Generic.Deleted */\n",
       ".highlight .ge { font-style: italic } /* Generic.Emph */\n",
       ".highlight .gr { color: #FF0000 } /* Generic.Error */\n",
       ".highlight .gh { color: #000080; font-weight: bold } /* Generic.Heading */\n",
       ".highlight .gi { color: #00A000 } /* Generic.Inserted */\n",
       ".highlight .go { color: #888888 } /* Generic.Output */\n",
       ".highlight .gp { color: #000080; font-weight: bold } /* Generic.Prompt */\n",
       ".highlight .gs { font-weight: bold } /* Generic.Strong */\n",
       ".highlight .gu { color: #800080; font-weight: bold } /* Generic.Subheading */\n",
       ".highlight .gt { color: #0044DD } /* Generic.Traceback */\n",
       ".highlight .kc { color: #008000; font-weight: bold } /* Keyword.Constant */\n",
       ".highlight .kd { color: #008000; font-weight: bold } /* Keyword.Declaration */\n",
       ".highlight .kn { color: #008000; font-weight: bold } /* Keyword.Namespace */\n",
       ".highlight .kp { color: #008000 } /* Keyword.Pseudo */\n",
       ".highlight .kr { color: #008000; font-weight: bold } /* Keyword.Reserved */\n",
       ".highlight .kt { color: #B00040 } /* Keyword.Type */\n",
       ".highlight .m { color: #666666 } /* Literal.Number */\n",
       ".highlight .s { color: #BA2121 } /* Literal.String */\n",
       ".highlight .na { color: #7D9029 } /* Name.Attribute */\n",
       ".highlight .nb { color: #008000 } /* Name.Builtin */\n",
       ".highlight .nc { color: #0000FF; font-weight: bold } /* Name.Class */\n",
       ".highlight .no { color: #880000 } /* Name.Constant */\n",
       ".highlight .nd { color: #AA22FF } /* Name.Decorator */\n",
       ".highlight .ni { color: #999999; font-weight: bold } /* Name.Entity */\n",
       ".highlight .ne { color: #D2413A; font-weight: bold } /* Name.Exception */\n",
       ".highlight .nf { color: #0000FF } /* Name.Function */\n",
       ".highlight .nl { color: #A0A000 } /* Name.Label */\n",
       ".highlight .nn { color: #0000FF; font-weight: bold } /* Name.Namespace */\n",
       ".highlight .nt { color: #008000; font-weight: bold } /* Name.Tag */\n",
       ".highlight .nv { color: #19177C } /* Name.Variable */\n",
       ".highlight .ow { color: #AA22FF; font-weight: bold } /* Operator.Word */\n",
       ".highlight .w { color: #bbbbbb } /* Text.Whitespace */\n",
       ".highlight .mb { color: #666666 } /* Literal.Number.Bin */\n",
       ".highlight .mf { color: #666666 } /* Literal.Number.Float */\n",
       ".highlight .mh { color: #666666 } /* Literal.Number.Hex */\n",
       ".highlight .mi { color: #666666 } /* Literal.Number.Integer */\n",
       ".highlight .mo { color: #666666 } /* Literal.Number.Oct */\n",
       ".highlight .sa { color: #BA2121 } /* Literal.String.Affix */\n",
       ".highlight .sb { color: #BA2121 } /* Literal.String.Backtick */\n",
       ".highlight .sc { color: #BA2121 } /* Literal.String.Char */\n",
       ".highlight .dl { color: #BA2121 } /* Literal.String.Delimiter */\n",
       ".highlight .sd { color: #BA2121; font-style: italic } /* Literal.String.Doc */\n",
       ".highlight .s2 { color: #BA2121 } /* Literal.String.Double */\n",
       ".highlight .se { color: #BB6622; font-weight: bold } /* Literal.String.Escape */\n",
       ".highlight .sh { color: #BA2121 } /* Literal.String.Heredoc */\n",
       ".highlight .si { color: #BB6688; font-weight: bold } /* Literal.String.Interpol */\n",
       ".highlight .sx { color: #008000 } /* Literal.String.Other */\n",
       ".highlight .sr { color: #BB6688 } /* Literal.String.Regex */\n",
       ".highlight .s1 { color: #BA2121 } /* Literal.String.Single */\n",
       ".highlight .ss { color: #19177C } /* Literal.String.Symbol */\n",
       ".highlight .bp { color: #008000 } /* Name.Builtin.Pseudo */\n",
       ".highlight .fm { color: #0000FF } /* Name.Function.Magic */\n",
       ".highlight .vc { color: #19177C } /* Name.Variable.Class */\n",
       ".highlight .vg { color: #19177C } /* Name.Variable.Global */\n",
       ".highlight .vi { color: #19177C } /* Name.Variable.Instance */\n",
       ".highlight .vm { color: #19177C } /* Name.Variable.Magic */\n",
       ".highlight .il { color: #666666 } /* Literal.Number.Integer.Long */</style>"
      ],
      "text/plain": [
       "<IPython.core.display.HTML object>"
      ]
     },
     "metadata": {},
     "output_type": "display_data"
    },
    {
     "data": {
      "text/html": [
       "<div class=\"highlight\"><pre><span></span><span class=\"n\">FUNC_PREFIX</span> <span class=\"kt\">void</span> <span class=\"nf\">kernel</span><span class=\"p\">(</span><span class=\"kt\">double</span> <span class=\"o\">*</span> <span class=\"n\">fd_dst</span><span class=\"p\">,</span> <span class=\"kt\">double</span> <span class=\"o\">*</span> <span class=\"k\">const</span> <span class=\"n\">fd_img</span><span class=\"p\">,</span> <span class=\"kt\">int64_t</span> <span class=\"k\">const</span> <span class=\"o\">*</span> <span class=\"n\">fshape_dst</span><span class=\"p\">,</span> <span class=\"kt\">int64_t</span> <span class=\"k\">const</span> <span class=\"o\">*</span> <span class=\"n\">fstride_dst</span><span class=\"p\">,</span> <span class=\"kt\">int64_t</span> <span class=\"k\">const</span> <span class=\"o\">*</span> <span class=\"n\">fstride_img</span><span class=\"p\">,</span> <span class=\"kt\">double</span> <span class=\"n\">w_2</span><span class=\"p\">)</span>\n",
       "<span class=\"p\">{</span>\n",
       "   <span class=\"k\">const</span> <span class=\"kt\">int64_t</span> <span class=\"n\">fshape_dst0</span> <span class=\"o\">=</span> <span class=\"n\">fshape_dst</span><span class=\"p\">[</span><span class=\"mi\">0</span><span class=\"p\">];</span>\n",
       "   <span class=\"k\">const</span> <span class=\"kt\">int64_t</span> <span class=\"n\">fshape_dst1</span> <span class=\"o\">=</span> <span class=\"n\">fshape_dst</span><span class=\"p\">[</span><span class=\"mi\">1</span><span class=\"p\">];</span>\n",
       "   <span class=\"k\">const</span> <span class=\"kt\">int64_t</span> <span class=\"n\">fstride_dst0</span> <span class=\"o\">=</span> <span class=\"n\">fstride_dst</span><span class=\"p\">[</span><span class=\"mi\">0</span><span class=\"p\">];</span>\n",
       "   <span class=\"k\">const</span> <span class=\"kt\">int64_t</span> <span class=\"n\">fstride_img2</span> <span class=\"o\">=</span> <span class=\"n\">fstride_img</span><span class=\"p\">[</span><span class=\"mi\">2</span><span class=\"p\">];</span>\n",
       "   <span class=\"kt\">double</span> <span class=\"o\">*</span> <span class=\"k\">const</span> <span class=\"n\">fd_img_22</span> <span class=\"o\">=</span> <span class=\"n\">fd_img</span> <span class=\"o\">+</span> <span class=\"mi\">2</span><span class=\"o\">*</span><span class=\"n\">fstride_img2</span><span class=\"p\">;</span>\n",
       "   <span class=\"k\">const</span> <span class=\"kt\">int64_t</span> <span class=\"n\">fstride_img0</span> <span class=\"o\">=</span> <span class=\"n\">fstride_img</span><span class=\"p\">[</span><span class=\"mi\">0</span><span class=\"p\">];</span>\n",
       "   <span class=\"k\">const</span> <span class=\"kt\">int64_t</span> <span class=\"n\">fstride_img1</span> <span class=\"o\">=</span> <span class=\"n\">fstride_img</span><span class=\"p\">[</span><span class=\"mi\">1</span><span class=\"p\">];</span>\n",
       "   <span class=\"k\">const</span> <span class=\"kt\">int64_t</span> <span class=\"n\">fstride_dst1</span> <span class=\"o\">=</span> <span class=\"n\">fstride_dst</span><span class=\"p\">[</span><span class=\"mi\">1</span><span class=\"p\">];</span>\n",
       "   <span class=\"k\">for</span> <span class=\"p\">(</span><span class=\"kt\">int</span> <span class=\"n\">ctr_0</span> <span class=\"o\">=</span> <span class=\"mi\">1</span><span class=\"p\">;</span> <span class=\"n\">ctr_0</span> <span class=\"o\">&lt;</span> <span class=\"n\">fshape_dst0</span> <span class=\"o\">-</span> <span class=\"mi\">1</span><span class=\"p\">;</span> <span class=\"n\">ctr_0</span> <span class=\"o\">+=</span> <span class=\"mi\">1</span><span class=\"p\">)</span>\n",
       "   <span class=\"p\">{</span>\n",
       "      <span class=\"kt\">double</span> <span class=\"o\">*</span> <span class=\"n\">fd_dst_00</span> <span class=\"o\">=</span> <span class=\"n\">ctr_0</span><span class=\"o\">*</span><span class=\"n\">fstride_dst0</span> <span class=\"o\">+</span> <span class=\"n\">fd_dst</span><span class=\"p\">;</span>\n",
       "      <span class=\"kt\">double</span> <span class=\"o\">*</span> <span class=\"k\">const</span> <span class=\"n\">fd_img_22_01</span> <span class=\"o\">=</span> <span class=\"n\">ctr_0</span><span class=\"o\">*</span><span class=\"n\">fstride_img0</span> <span class=\"o\">+</span> <span class=\"n\">fd_img_22</span> <span class=\"o\">+</span> <span class=\"n\">fstride_img0</span><span class=\"p\">;</span>\n",
       "      <span class=\"kt\">double</span> <span class=\"o\">*</span> <span class=\"k\">const</span> <span class=\"n\">fd_img_22_0m1</span> <span class=\"o\">=</span> <span class=\"n\">ctr_0</span><span class=\"o\">*</span><span class=\"n\">fstride_img0</span> <span class=\"o\">+</span> <span class=\"n\">fd_img_22</span> <span class=\"o\">-</span> <span class=\"n\">fstride_img0</span><span class=\"p\">;</span>\n",
       "      <span class=\"k\">for</span> <span class=\"p\">(</span><span class=\"kt\">int</span> <span class=\"n\">ctr_1</span> <span class=\"o\">=</span> <span class=\"mi\">1</span><span class=\"p\">;</span> <span class=\"n\">ctr_1</span> <span class=\"o\">&lt;</span> <span class=\"n\">fshape_dst1</span> <span class=\"o\">-</span> <span class=\"mi\">1</span><span class=\"p\">;</span> <span class=\"n\">ctr_1</span> <span class=\"o\">+=</span> <span class=\"mi\">1</span><span class=\"p\">)</span>\n",
       "      <span class=\"p\">{</span>\n",
       "         <span class=\"n\">fd_dst_00</span><span class=\"p\">[</span><span class=\"n\">ctr_1</span><span class=\"o\">*</span><span class=\"n\">fstride_dst1</span><span class=\"p\">]</span> <span class=\"o\">=</span> <span class=\"p\">((</span><span class=\"n\">w_2</span><span class=\"o\">*</span><span class=\"n\">fd_img_22_01</span><span class=\"p\">[</span><span class=\"n\">ctr_1</span><span class=\"o\">*</span><span class=\"n\">fstride_img1</span><span class=\"p\">]</span> <span class=\"o\">-</span> <span class=\"n\">w_2</span><span class=\"o\">*</span><span class=\"n\">fd_img_22_0m1</span><span class=\"p\">[</span><span class=\"n\">ctr_1</span><span class=\"o\">*</span><span class=\"n\">fstride_img1</span><span class=\"p\">]</span> <span class=\"o\">-</span> <span class=\"mf\">0.5</span><span class=\"o\">*</span><span class=\"n\">fd_img_22_01</span><span class=\"p\">[</span><span class=\"n\">ctr_1</span><span class=\"o\">*</span><span class=\"n\">fstride_img1</span> <span class=\"o\">+</span> <span class=\"n\">fstride_img1</span><span class=\"p\">]</span> <span class=\"o\">-</span> <span class=\"mf\">0.5</span><span class=\"o\">*</span><span class=\"n\">fd_img_22_0m1</span><span class=\"p\">[</span><span class=\"n\">ctr_1</span><span class=\"o\">*</span><span class=\"n\">fstride_img1</span> <span class=\"o\">+</span> <span class=\"n\">fstride_img1</span><span class=\"p\">]</span> <span class=\"o\">-</span> <span class=\"mf\">0.5</span><span class=\"o\">*</span><span class=\"n\">fd_img_22_0m1</span><span class=\"p\">[</span><span class=\"n\">ctr_1</span><span class=\"o\">*</span><span class=\"n\">fstride_img1</span> <span class=\"o\">-</span> <span class=\"n\">fstride_img1</span><span class=\"p\">]</span> <span class=\"o\">+</span> <span class=\"mf\">0.5</span><span class=\"o\">*</span><span class=\"n\">fd_img_22_01</span><span class=\"p\">[</span><span class=\"n\">ctr_1</span><span class=\"o\">*</span><span class=\"n\">fstride_img1</span> <span class=\"o\">-</span> <span class=\"n\">fstride_img1</span><span class=\"p\">])</span><span class=\"o\">*</span><span class=\"p\">(</span><span class=\"n\">w_2</span><span class=\"o\">*</span><span class=\"n\">fd_img_22_01</span><span class=\"p\">[</span><span class=\"n\">ctr_1</span><span class=\"o\">*</span><span class=\"n\">fstride_img1</span><span class=\"p\">]</span> <span class=\"o\">-</span> <span class=\"n\">w_2</span><span class=\"o\">*</span><span class=\"n\">fd_img_22_0m1</span><span class=\"p\">[</span><span class=\"n\">ctr_1</span><span class=\"o\">*</span><span class=\"n\">fstride_img1</span><span class=\"p\">]</span> <span class=\"o\">-</span> <span class=\"mf\">0.5</span><span class=\"o\">*</span><span class=\"n\">fd_img_22_01</span><span class=\"p\">[</span><span class=\"n\">ctr_1</span><span class=\"o\">*</span><span class=\"n\">fstride_img1</span> <span class=\"o\">+</span> <span class=\"n\">fstride_img1</span><span class=\"p\">]</span> <span class=\"o\">-</span> <span class=\"mf\">0.5</span><span class=\"o\">*</span><span class=\"n\">fd_img_22_0m1</span><span class=\"p\">[</span><span class=\"n\">ctr_1</span><span class=\"o\">*</span><span class=\"n\">fstride_img1</span> <span class=\"o\">+</span> <span class=\"n\">fstride_img1</span><span class=\"p\">]</span> <span class=\"o\">-</span> <span class=\"mf\">0.5</span><span class=\"o\">*</span><span class=\"n\">fd_img_22_0m1</span><span class=\"p\">[</span><span class=\"n\">ctr_1</span><span class=\"o\">*</span><span class=\"n\">fstride_img1</span> <span class=\"o\">-</span> <span class=\"n\">fstride_img1</span><span class=\"p\">]</span> <span class=\"o\">+</span> <span class=\"mf\">0.5</span><span class=\"o\">*</span><span class=\"n\">fd_img_22_01</span><span class=\"p\">[</span><span class=\"n\">ctr_1</span><span class=\"o\">*</span><span class=\"n\">fstride_img1</span> <span class=\"o\">-</span> <span class=\"n\">fstride_img1</span><span class=\"p\">]));</span>\n",
       "      <span class=\"p\">}</span>\n",
       "   <span class=\"p\">}</span>\n",
       "<span class=\"p\">}</span>\n",
       "</pre></div>\n"
      ],
      "text/plain": [
       "FUNC_PREFIX void kernel(double * fd_dst, double * const fd_img, int64_t const * fshape_dst, int64_t const * fstride_dst, int64_t const * fstride_img, double w_2)\n",
       "{\n",
       "   const int64_t fshape_dst0 = fshape_dst[0];\n",
       "   const int64_t fshape_dst1 = fshape_dst[1];\n",
       "   const int64_t fstride_dst0 = fstride_dst[0];\n",
       "   const int64_t fstride_img2 = fstride_img[2];\n",
       "   double * const fd_img_22 = fd_img + 2*fstride_img2;\n",
       "   const int64_t fstride_img0 = fstride_img[0];\n",
       "   const int64_t fstride_img1 = fstride_img[1];\n",
       "   const int64_t fstride_dst1 = fstride_dst[1];\n",
       "   for (int ctr_0 = 1; ctr_0 < fshape_dst0 - 1; ctr_0 += 1)\n",
       "   {\n",
       "      double * fd_dst_00 = ctr_0*fstride_dst0 + fd_dst;\n",
       "      double * const fd_img_22_01 = ctr_0*fstride_img0 + fd_img_22 + fstride_img0;\n",
       "      double * const fd_img_22_0m1 = ctr_0*fstride_img0 + fd_img_22 - fstride_img0;\n",
       "      for (int ctr_1 = 1; ctr_1 < fshape_dst1 - 1; ctr_1 += 1)\n",
       "      {\n",
       "         fd_dst_00[ctr_1*fstride_dst1] = ((w_2*fd_img_22_01[ctr_1*fstride_img1] - w_2*fd_img_22_0m1[ctr_1*fstride_img1] - 0.5*fd_img_22_01[ctr_1*fstride_img1 + fstride_img1] - 0.5*fd_img_22_0m1[ctr_1*fstride_img1 + fstride_img1] - 0.5*fd_img_22_0m1[ctr_1*fstride_img1 - fstride_img1] + 0.5*fd_img_22_01[ctr_1*fstride_img1 - fstride_img1])*(w_2*fd_img_22_01[ctr_1*fstride_img1] - w_2*fd_img_22_0m1[ctr_1*fstride_img1] - 0.5*fd_img_22_01[ctr_1*fstride_img1 + fstride_img1] - 0.5*fd_img_22_0m1[ctr_1*fstride_img1 + fstride_img1] - 0.5*fd_img_22_0m1[ctr_1*fstride_img1 - fstride_img1] + 0.5*fd_img_22_01[ctr_1*fstride_img1 - fstride_img1]));\n",
       "      }\n",
       "   }\n",
       "}"
      ]
     },
     "execution_count": 33,
     "metadata": {},
     "output_type": "execute_result"
    }
   ],
   "source": [
    "ps.show_code(ast)"
   ]
  },
  {
   "cell_type": "markdown",
   "metadata": {},
   "source": [
    "Behind the scenes this code is compiled into a shared library and made available as a Python function. Before compiling this function we can modify the AST object, for example to parallelize it with OpenMP."
   ]
  },
  {
   "cell_type": "code",
   "execution_count": 34,
   "metadata": {},
   "outputs": [
    {
     "data": {
      "text/html": [
       "<style>.highlight .hll { background-color: #ffffcc }\n",
       ".highlight  { background: #f8f8f8; }\n",
       ".highlight .c { color: #408080; font-style: italic } /* Comment */\n",
       ".highlight .err { border: 1px solid #FF0000 } /* Error */\n",
       ".highlight .k { color: #008000; font-weight: bold } /* Keyword */\n",
       ".highlight .o { color: #666666 } /* Operator */\n",
       ".highlight .ch { color: #408080; font-style: italic } /* Comment.Hashbang */\n",
       ".highlight .cm { color: #408080; font-style: italic } /* Comment.Multiline */\n",
       ".highlight .cp { color: #BC7A00 } /* Comment.Preproc */\n",
       ".highlight .cpf { color: #408080; font-style: italic } /* Comment.PreprocFile */\n",
       ".highlight .c1 { color: #408080; font-style: italic } /* Comment.Single */\n",
       ".highlight .cs { color: #408080; font-style: italic } /* Comment.Special */\n",
       ".highlight .gd { color: #A00000 } /* Generic.Deleted */\n",
       ".highlight .ge { font-style: italic } /* Generic.Emph */\n",
       ".highlight .gr { color: #FF0000 } /* Generic.Error */\n",
       ".highlight .gh { color: #000080; font-weight: bold } /* Generic.Heading */\n",
       ".highlight .gi { color: #00A000 } /* Generic.Inserted */\n",
       ".highlight .go { color: #888888 } /* Generic.Output */\n",
       ".highlight .gp { color: #000080; font-weight: bold } /* Generic.Prompt */\n",
       ".highlight .gs { font-weight: bold } /* Generic.Strong */\n",
       ".highlight .gu { color: #800080; font-weight: bold } /* Generic.Subheading */\n",
       ".highlight .gt { color: #0044DD } /* Generic.Traceback */\n",
       ".highlight .kc { color: #008000; font-weight: bold } /* Keyword.Constant */\n",
       ".highlight .kd { color: #008000; font-weight: bold } /* Keyword.Declaration */\n",
       ".highlight .kn { color: #008000; font-weight: bold } /* Keyword.Namespace */\n",
       ".highlight .kp { color: #008000 } /* Keyword.Pseudo */\n",
       ".highlight .kr { color: #008000; font-weight: bold } /* Keyword.Reserved */\n",
       ".highlight .kt { color: #B00040 } /* Keyword.Type */\n",
       ".highlight .m { color: #666666 } /* Literal.Number */\n",
       ".highlight .s { color: #BA2121 } /* Literal.String */\n",
       ".highlight .na { color: #7D9029 } /* Name.Attribute */\n",
       ".highlight .nb { color: #008000 } /* Name.Builtin */\n",
       ".highlight .nc { color: #0000FF; font-weight: bold } /* Name.Class */\n",
       ".highlight .no { color: #880000 } /* Name.Constant */\n",
       ".highlight .nd { color: #AA22FF } /* Name.Decorator */\n",
       ".highlight .ni { color: #999999; font-weight: bold } /* Name.Entity */\n",
       ".highlight .ne { color: #D2413A; font-weight: bold } /* Name.Exception */\n",
       ".highlight .nf { color: #0000FF } /* Name.Function */\n",
       ".highlight .nl { color: #A0A000 } /* Name.Label */\n",
       ".highlight .nn { color: #0000FF; font-weight: bold } /* Name.Namespace */\n",
       ".highlight .nt { color: #008000; font-weight: bold } /* Name.Tag */\n",
       ".highlight .nv { color: #19177C } /* Name.Variable */\n",
       ".highlight .ow { color: #AA22FF; font-weight: bold } /* Operator.Word */\n",
       ".highlight .w { color: #bbbbbb } /* Text.Whitespace */\n",
       ".highlight .mb { color: #666666 } /* Literal.Number.Bin */\n",
       ".highlight .mf { color: #666666 } /* Literal.Number.Float */\n",
       ".highlight .mh { color: #666666 } /* Literal.Number.Hex */\n",
       ".highlight .mi { color: #666666 } /* Literal.Number.Integer */\n",
       ".highlight .mo { color: #666666 } /* Literal.Number.Oct */\n",
       ".highlight .sa { color: #BA2121 } /* Literal.String.Affix */\n",
       ".highlight .sb { color: #BA2121 } /* Literal.String.Backtick */\n",
       ".highlight .sc { color: #BA2121 } /* Literal.String.Char */\n",
       ".highlight .dl { color: #BA2121 } /* Literal.String.Delimiter */\n",
       ".highlight .sd { color: #BA2121; font-style: italic } /* Literal.String.Doc */\n",
       ".highlight .s2 { color: #BA2121 } /* Literal.String.Double */\n",
       ".highlight .se { color: #BB6622; font-weight: bold } /* Literal.String.Escape */\n",
       ".highlight .sh { color: #BA2121 } /* Literal.String.Heredoc */\n",
       ".highlight .si { color: #BB6688; font-weight: bold } /* Literal.String.Interpol */\n",
       ".highlight .sx { color: #008000 } /* Literal.String.Other */\n",
       ".highlight .sr { color: #BB6688 } /* Literal.String.Regex */\n",
       ".highlight .s1 { color: #BA2121 } /* Literal.String.Single */\n",
       ".highlight .ss { color: #19177C } /* Literal.String.Symbol */\n",
       ".highlight .bp { color: #008000 } /* Name.Builtin.Pseudo */\n",
       ".highlight .fm { color: #0000FF } /* Name.Function.Magic */\n",
       ".highlight .vc { color: #19177C } /* Name.Variable.Class */\n",
       ".highlight .vg { color: #19177C } /* Name.Variable.Global */\n",
       ".highlight .vi { color: #19177C } /* Name.Variable.Instance */\n",
       ".highlight .vm { color: #19177C } /* Name.Variable.Magic */\n",
       ".highlight .il { color: #666666 } /* Literal.Number.Integer.Long */</style>"
      ],
      "text/plain": [
       "<IPython.core.display.HTML object>"
      ]
     },
     "metadata": {},
     "output_type": "display_data"
    },
    {
     "data": {
      "text/html": [
       "<div class=\"highlight\"><pre><span></span><span class=\"n\">FUNC_PREFIX</span> <span class=\"kt\">void</span> <span class=\"nf\">kernel</span><span class=\"p\">(</span><span class=\"kt\">double</span> <span class=\"o\">*</span> <span class=\"n\">fd_dst</span><span class=\"p\">,</span> <span class=\"kt\">double</span> <span class=\"o\">*</span> <span class=\"k\">const</span> <span class=\"n\">fd_img</span><span class=\"p\">,</span> <span class=\"kt\">int64_t</span> <span class=\"k\">const</span> <span class=\"o\">*</span> <span class=\"n\">fshape_dst</span><span class=\"p\">,</span> <span class=\"kt\">int64_t</span> <span class=\"k\">const</span> <span class=\"o\">*</span> <span class=\"n\">fstride_dst</span><span class=\"p\">,</span> <span class=\"kt\">int64_t</span> <span class=\"k\">const</span> <span class=\"o\">*</span> <span class=\"n\">fstride_img</span><span class=\"p\">,</span> <span class=\"kt\">double</span> <span class=\"n\">w_2</span><span class=\"p\">)</span>\n",
       "<span class=\"p\">{</span>\n",
       "   <span class=\"cp\">#pragma omp parallel num_threads(2)</span>\n",
       "   <span class=\"p\">{</span>\n",
       "      <span class=\"k\">const</span> <span class=\"kt\">int64_t</span> <span class=\"n\">fshape_dst0</span> <span class=\"o\">=</span> <span class=\"n\">fshape_dst</span><span class=\"p\">[</span><span class=\"mi\">0</span><span class=\"p\">];</span>\n",
       "      <span class=\"k\">const</span> <span class=\"kt\">int64_t</span> <span class=\"n\">fshape_dst1</span> <span class=\"o\">=</span> <span class=\"n\">fshape_dst</span><span class=\"p\">[</span><span class=\"mi\">1</span><span class=\"p\">];</span>\n",
       "      <span class=\"k\">const</span> <span class=\"kt\">int64_t</span> <span class=\"n\">fstride_dst0</span> <span class=\"o\">=</span> <span class=\"n\">fstride_dst</span><span class=\"p\">[</span><span class=\"mi\">0</span><span class=\"p\">];</span>\n",
       "      <span class=\"k\">const</span> <span class=\"kt\">int64_t</span> <span class=\"n\">fstride_img2</span> <span class=\"o\">=</span> <span class=\"n\">fstride_img</span><span class=\"p\">[</span><span class=\"mi\">2</span><span class=\"p\">];</span>\n",
       "      <span class=\"kt\">double</span> <span class=\"o\">*</span> <span class=\"k\">const</span> <span class=\"n\">fd_img_22</span> <span class=\"o\">=</span> <span class=\"n\">fd_img</span> <span class=\"o\">+</span> <span class=\"mi\">2</span><span class=\"o\">*</span><span class=\"n\">fstride_img2</span><span class=\"p\">;</span>\n",
       "      <span class=\"k\">const</span> <span class=\"kt\">int64_t</span> <span class=\"n\">fstride_img0</span> <span class=\"o\">=</span> <span class=\"n\">fstride_img</span><span class=\"p\">[</span><span class=\"mi\">0</span><span class=\"p\">];</span>\n",
       "      <span class=\"k\">const</span> <span class=\"kt\">int64_t</span> <span class=\"n\">fstride_img1</span> <span class=\"o\">=</span> <span class=\"n\">fstride_img</span><span class=\"p\">[</span><span class=\"mi\">1</span><span class=\"p\">];</span>\n",
       "      <span class=\"k\">const</span> <span class=\"kt\">int64_t</span> <span class=\"n\">fstride_dst1</span> <span class=\"o\">=</span> <span class=\"n\">fstride_dst</span><span class=\"p\">[</span><span class=\"mi\">1</span><span class=\"p\">];</span>\n",
       "      <span class=\"cp\">#pragma omp for schedule(static)</span>\n",
       "      <span class=\"k\">for</span> <span class=\"p\">(</span><span class=\"kt\">int</span> <span class=\"n\">ctr_0</span> <span class=\"o\">=</span> <span class=\"mi\">1</span><span class=\"p\">;</span> <span class=\"n\">ctr_0</span> <span class=\"o\">&lt;</span> <span class=\"n\">fshape_dst0</span> <span class=\"o\">-</span> <span class=\"mi\">1</span><span class=\"p\">;</span> <span class=\"n\">ctr_0</span> <span class=\"o\">+=</span> <span class=\"mi\">1</span><span class=\"p\">)</span>\n",
       "      <span class=\"p\">{</span>\n",
       "         <span class=\"kt\">double</span> <span class=\"o\">*</span> <span class=\"n\">fd_dst_00</span> <span class=\"o\">=</span> <span class=\"n\">ctr_0</span><span class=\"o\">*</span><span class=\"n\">fstride_dst0</span> <span class=\"o\">+</span> <span class=\"n\">fd_dst</span><span class=\"p\">;</span>\n",
       "         <span class=\"kt\">double</span> <span class=\"o\">*</span> <span class=\"k\">const</span> <span class=\"n\">fd_img_22_01</span> <span class=\"o\">=</span> <span class=\"n\">ctr_0</span><span class=\"o\">*</span><span class=\"n\">fstride_img0</span> <span class=\"o\">+</span> <span class=\"n\">fd_img_22</span> <span class=\"o\">+</span> <span class=\"n\">fstride_img0</span><span class=\"p\">;</span>\n",
       "         <span class=\"kt\">double</span> <span class=\"o\">*</span> <span class=\"k\">const</span> <span class=\"n\">fd_img_22_0m1</span> <span class=\"o\">=</span> <span class=\"n\">ctr_0</span><span class=\"o\">*</span><span class=\"n\">fstride_img0</span> <span class=\"o\">+</span> <span class=\"n\">fd_img_22</span> <span class=\"o\">-</span> <span class=\"n\">fstride_img0</span><span class=\"p\">;</span>\n",
       "         <span class=\"k\">for</span> <span class=\"p\">(</span><span class=\"kt\">int</span> <span class=\"n\">ctr_1</span> <span class=\"o\">=</span> <span class=\"mi\">1</span><span class=\"p\">;</span> <span class=\"n\">ctr_1</span> <span class=\"o\">&lt;</span> <span class=\"n\">fshape_dst1</span> <span class=\"o\">-</span> <span class=\"mi\">1</span><span class=\"p\">;</span> <span class=\"n\">ctr_1</span> <span class=\"o\">+=</span> <span class=\"mi\">1</span><span class=\"p\">)</span>\n",
       "         <span class=\"p\">{</span>\n",
       "            <span class=\"n\">fd_dst_00</span><span class=\"p\">[</span><span class=\"n\">ctr_1</span><span class=\"o\">*</span><span class=\"n\">fstride_dst1</span><span class=\"p\">]</span> <span class=\"o\">=</span> <span class=\"p\">((</span><span class=\"n\">w_2</span><span class=\"o\">*</span><span class=\"n\">fd_img_22_01</span><span class=\"p\">[</span><span class=\"n\">ctr_1</span><span class=\"o\">*</span><span class=\"n\">fstride_img1</span><span class=\"p\">]</span> <span class=\"o\">-</span> <span class=\"n\">w_2</span><span class=\"o\">*</span><span class=\"n\">fd_img_22_0m1</span><span class=\"p\">[</span><span class=\"n\">ctr_1</span><span class=\"o\">*</span><span class=\"n\">fstride_img1</span><span class=\"p\">]</span> <span class=\"o\">-</span> <span class=\"mf\">0.5</span><span class=\"o\">*</span><span class=\"n\">fd_img_22_01</span><span class=\"p\">[</span><span class=\"n\">ctr_1</span><span class=\"o\">*</span><span class=\"n\">fstride_img1</span> <span class=\"o\">+</span> <span class=\"n\">fstride_img1</span><span class=\"p\">]</span> <span class=\"o\">-</span> <span class=\"mf\">0.5</span><span class=\"o\">*</span><span class=\"n\">fd_img_22_0m1</span><span class=\"p\">[</span><span class=\"n\">ctr_1</span><span class=\"o\">*</span><span class=\"n\">fstride_img1</span> <span class=\"o\">+</span> <span class=\"n\">fstride_img1</span><span class=\"p\">]</span> <span class=\"o\">-</span> <span class=\"mf\">0.5</span><span class=\"o\">*</span><span class=\"n\">fd_img_22_0m1</span><span class=\"p\">[</span><span class=\"n\">ctr_1</span><span class=\"o\">*</span><span class=\"n\">fstride_img1</span> <span class=\"o\">-</span> <span class=\"n\">fstride_img1</span><span class=\"p\">]</span> <span class=\"o\">+</span> <span class=\"mf\">0.5</span><span class=\"o\">*</span><span class=\"n\">fd_img_22_01</span><span class=\"p\">[</span><span class=\"n\">ctr_1</span><span class=\"o\">*</span><span class=\"n\">fstride_img1</span> <span class=\"o\">-</span> <span class=\"n\">fstride_img1</span><span class=\"p\">])</span><span class=\"o\">*</span><span class=\"p\">(</span><span class=\"n\">w_2</span><span class=\"o\">*</span><span class=\"n\">fd_img_22_01</span><span class=\"p\">[</span><span class=\"n\">ctr_1</span><span class=\"o\">*</span><span class=\"n\">fstride_img1</span><span class=\"p\">]</span> <span class=\"o\">-</span> <span class=\"n\">w_2</span><span class=\"o\">*</span><span class=\"n\">fd_img_22_0m1</span><span class=\"p\">[</span><span class=\"n\">ctr_1</span><span class=\"o\">*</span><span class=\"n\">fstride_img1</span><span class=\"p\">]</span> <span class=\"o\">-</span> <span class=\"mf\">0.5</span><span class=\"o\">*</span><span class=\"n\">fd_img_22_01</span><span class=\"p\">[</span><span class=\"n\">ctr_1</span><span class=\"o\">*</span><span class=\"n\">fstride_img1</span> <span class=\"o\">+</span> <span class=\"n\">fstride_img1</span><span class=\"p\">]</span> <span class=\"o\">-</span> <span class=\"mf\">0.5</span><span class=\"o\">*</span><span class=\"n\">fd_img_22_0m1</span><span class=\"p\">[</span><span class=\"n\">ctr_1</span><span class=\"o\">*</span><span class=\"n\">fstride_img1</span> <span class=\"o\">+</span> <span class=\"n\">fstride_img1</span><span class=\"p\">]</span> <span class=\"o\">-</span> <span class=\"mf\">0.5</span><span class=\"o\">*</span><span class=\"n\">fd_img_22_0m1</span><span class=\"p\">[</span><span class=\"n\">ctr_1</span><span class=\"o\">*</span><span class=\"n\">fstride_img1</span> <span class=\"o\">-</span> <span class=\"n\">fstride_img1</span><span class=\"p\">]</span> <span class=\"o\">+</span> <span class=\"mf\">0.5</span><span class=\"o\">*</span><span class=\"n\">fd_img_22_01</span><span class=\"p\">[</span><span class=\"n\">ctr_1</span><span class=\"o\">*</span><span class=\"n\">fstride_img1</span> <span class=\"o\">-</span> <span class=\"n\">fstride_img1</span><span class=\"p\">]));</span>\n",
       "         <span class=\"p\">}</span>\n",
       "      <span class=\"p\">}</span>\n",
       "   <span class=\"p\">}</span>\n",
       "<span class=\"p\">}</span>\n",
       "</pre></div>\n"
      ],
      "text/plain": [
       "FUNC_PREFIX void kernel(double * fd_dst, double * const fd_img, int64_t const * fshape_dst, int64_t const * fstride_dst, int64_t const * fstride_img, double w_2)\n",
       "{\n",
       "   #pragma omp parallel num_threads(2)\n",
       "   {\n",
       "      const int64_t fshape_dst0 = fshape_dst[0];\n",
       "      const int64_t fshape_dst1 = fshape_dst[1];\n",
       "      const int64_t fstride_dst0 = fstride_dst[0];\n",
       "      const int64_t fstride_img2 = fstride_img[2];\n",
       "      double * const fd_img_22 = fd_img + 2*fstride_img2;\n",
       "      const int64_t fstride_img0 = fstride_img[0];\n",
       "      const int64_t fstride_img1 = fstride_img[1];\n",
       "      const int64_t fstride_dst1 = fstride_dst[1];\n",
       "      #pragma omp for schedule(static)\n",
       "      for (int ctr_0 = 1; ctr_0 < fshape_dst0 - 1; ctr_0 += 1)\n",
       "      {\n",
       "         double * fd_dst_00 = ctr_0*fstride_dst0 + fd_dst;\n",
       "         double * const fd_img_22_01 = ctr_0*fstride_img0 + fd_img_22 + fstride_img0;\n",
       "         double * const fd_img_22_0m1 = ctr_0*fstride_img0 + fd_img_22 - fstride_img0;\n",
       "         for (int ctr_1 = 1; ctr_1 < fshape_dst1 - 1; ctr_1 += 1)\n",
       "         {\n",
       "            fd_dst_00[ctr_1*fstride_dst1] = ((w_2*fd_img_22_01[ctr_1*fstride_img1] - w_2*fd_img_22_0m1[ctr_1*fstride_img1] - 0.5*fd_img_22_01[ctr_1*fstride_img1 + fstride_img1] - 0.5*fd_img_22_0m1[ctr_1*fstride_img1 + fstride_img1] - 0.5*fd_img_22_0m1[ctr_1*fstride_img1 - fstride_img1] + 0.5*fd_img_22_01[ctr_1*fstride_img1 - fstride_img1])*(w_2*fd_img_22_01[ctr_1*fstride_img1] - w_2*fd_img_22_0m1[ctr_1*fstride_img1] - 0.5*fd_img_22_01[ctr_1*fstride_img1 + fstride_img1] - 0.5*fd_img_22_0m1[ctr_1*fstride_img1 + fstride_img1] - 0.5*fd_img_22_0m1[ctr_1*fstride_img1 - fstride_img1] + 0.5*fd_img_22_01[ctr_1*fstride_img1 - fstride_img1]));\n",
       "         }\n",
       "      }\n",
       "   }\n",
       "}"
      ]
     },
     "execution_count": 34,
     "metadata": {},
     "output_type": "execute_result"
    }
   ],
   "source": [
    "ast = ps.create_kernel(update_rule)\n",
    "ps.cpu.add_openmp(ast, num_threads=2)\n",
    "ps.show_code(ast)"
   ]
  },
  {
   "cell_type": "code",
   "execution_count": 35,
   "metadata": {},
   "outputs": [
    {
     "data": {
      "text/plain": [
       "False"
      ]
     },
     "execution_count": 35,
     "metadata": {},
     "output_type": "execute_result"
    }
   ],
   "source": [
    "loops = list(ast.atoms(ps.astnodes.LoopOverCoordinate))\n",
    "l1 = loops[0]\n",
    "l1.prefix_lines.append(\"#pragma someting\")\n",
    "l1.is_outermost_loop"
   ]
  },
  {
   "cell_type": "markdown",
   "metadata": {},
   "source": [
    "### Fixed array sizes\n",
    "\n",
    "Since we already know the arrays to which the kernel should be applied, we can \n",
    "create *Field* objects with fixed size, based on a numpy array:"
   ]
  },
  {
   "cell_type": "code",
   "execution_count": 36,
   "metadata": {},
   "outputs": [
    {
     "data": {
      "text/html": [
       "<style>.highlight .hll { background-color: #ffffcc }\n",
       ".highlight  { background: #f8f8f8; }\n",
       ".highlight .c { color: #408080; font-style: italic } /* Comment */\n",
       ".highlight .err { border: 1px solid #FF0000 } /* Error */\n",
       ".highlight .k { color: #008000; font-weight: bold } /* Keyword */\n",
       ".highlight .o { color: #666666 } /* Operator */\n",
       ".highlight .ch { color: #408080; font-style: italic } /* Comment.Hashbang */\n",
       ".highlight .cm { color: #408080; font-style: italic } /* Comment.Multiline */\n",
       ".highlight .cp { color: #BC7A00 } /* Comment.Preproc */\n",
       ".highlight .cpf { color: #408080; font-style: italic } /* Comment.PreprocFile */\n",
       ".highlight .c1 { color: #408080; font-style: italic } /* Comment.Single */\n",
       ".highlight .cs { color: #408080; font-style: italic } /* Comment.Special */\n",
       ".highlight .gd { color: #A00000 } /* Generic.Deleted */\n",
       ".highlight .ge { font-style: italic } /* Generic.Emph */\n",
       ".highlight .gr { color: #FF0000 } /* Generic.Error */\n",
       ".highlight .gh { color: #000080; font-weight: bold } /* Generic.Heading */\n",
       ".highlight .gi { color: #00A000 } /* Generic.Inserted */\n",
       ".highlight .go { color: #888888 } /* Generic.Output */\n",
       ".highlight .gp { color: #000080; font-weight: bold } /* Generic.Prompt */\n",
       ".highlight .gs { font-weight: bold } /* Generic.Strong */\n",
       ".highlight .gu { color: #800080; font-weight: bold } /* Generic.Subheading */\n",
       ".highlight .gt { color: #0044DD } /* Generic.Traceback */\n",
       ".highlight .kc { color: #008000; font-weight: bold } /* Keyword.Constant */\n",
       ".highlight .kd { color: #008000; font-weight: bold } /* Keyword.Declaration */\n",
       ".highlight .kn { color: #008000; font-weight: bold } /* Keyword.Namespace */\n",
       ".highlight .kp { color: #008000 } /* Keyword.Pseudo */\n",
       ".highlight .kr { color: #008000; font-weight: bold } /* Keyword.Reserved */\n",
       ".highlight .kt { color: #B00040 } /* Keyword.Type */\n",
       ".highlight .m { color: #666666 } /* Literal.Number */\n",
       ".highlight .s { color: #BA2121 } /* Literal.String */\n",
       ".highlight .na { color: #7D9029 } /* Name.Attribute */\n",
       ".highlight .nb { color: #008000 } /* Name.Builtin */\n",
       ".highlight .nc { color: #0000FF; font-weight: bold } /* Name.Class */\n",
       ".highlight .no { color: #880000 } /* Name.Constant */\n",
       ".highlight .nd { color: #AA22FF } /* Name.Decorator */\n",
       ".highlight .ni { color: #999999; font-weight: bold } /* Name.Entity */\n",
       ".highlight .ne { color: #D2413A; font-weight: bold } /* Name.Exception */\n",
       ".highlight .nf { color: #0000FF } /* Name.Function */\n",
       ".highlight .nl { color: #A0A000 } /* Name.Label */\n",
       ".highlight .nn { color: #0000FF; font-weight: bold } /* Name.Namespace */\n",
       ".highlight .nt { color: #008000; font-weight: bold } /* Name.Tag */\n",
       ".highlight .nv { color: #19177C } /* Name.Variable */\n",
       ".highlight .ow { color: #AA22FF; font-weight: bold } /* Operator.Word */\n",
       ".highlight .w { color: #bbbbbb } /* Text.Whitespace */\n",
       ".highlight .mb { color: #666666 } /* Literal.Number.Bin */\n",
       ".highlight .mf { color: #666666 } /* Literal.Number.Float */\n",
       ".highlight .mh { color: #666666 } /* Literal.Number.Hex */\n",
       ".highlight .mi { color: #666666 } /* Literal.Number.Integer */\n",
       ".highlight .mo { color: #666666 } /* Literal.Number.Oct */\n",
       ".highlight .sa { color: #BA2121 } /* Literal.String.Affix */\n",
       ".highlight .sb { color: #BA2121 } /* Literal.String.Backtick */\n",
       ".highlight .sc { color: #BA2121 } /* Literal.String.Char */\n",
       ".highlight .dl { color: #BA2121 } /* Literal.String.Delimiter */\n",
       ".highlight .sd { color: #BA2121; font-style: italic } /* Literal.String.Doc */\n",
       ".highlight .s2 { color: #BA2121 } /* Literal.String.Double */\n",
       ".highlight .se { color: #BB6622; font-weight: bold } /* Literal.String.Escape */\n",
       ".highlight .sh { color: #BA2121 } /* Literal.String.Heredoc */\n",
       ".highlight .si { color: #BB6688; font-weight: bold } /* Literal.String.Interpol */\n",
       ".highlight .sx { color: #008000 } /* Literal.String.Other */\n",
       ".highlight .sr { color: #BB6688 } /* Literal.String.Regex */\n",
       ".highlight .s1 { color: #BA2121 } /* Literal.String.Single */\n",
       ".highlight .ss { color: #19177C } /* Literal.String.Symbol */\n",
       ".highlight .bp { color: #008000 } /* Name.Builtin.Pseudo */\n",
       ".highlight .fm { color: #0000FF } /* Name.Function.Magic */\n",
       ".highlight .vc { color: #19177C } /* Name.Variable.Class */\n",
       ".highlight .vg { color: #19177C } /* Name.Variable.Global */\n",
       ".highlight .vi { color: #19177C } /* Name.Variable.Instance */\n",
       ".highlight .vm { color: #19177C } /* Name.Variable.Magic */\n",
       ".highlight .il { color: #666666 } /* Literal.Number.Integer.Long */</style>"
      ],
      "text/plain": [
       "<IPython.core.display.HTML object>"
      ]
     },
     "metadata": {},
     "output_type": "display_data"
    },
    {
     "data": {
      "text/html": [
       "<div class=\"highlight\"><pre><span></span><span class=\"n\">FUNC_PREFIX</span> <span class=\"kt\">void</span> <span class=\"nf\">kernel</span><span class=\"p\">(</span><span class=\"kt\">double</span> <span class=\"o\">*</span> <span class=\"k\">const</span> <span class=\"n\">fd_I</span><span class=\"p\">,</span> <span class=\"kt\">double</span> <span class=\"o\">*</span> <span class=\"n\">fd_dst</span><span class=\"p\">)</span>\n",
       "<span class=\"p\">{</span>\n",
       "   <span class=\"kt\">double</span> <span class=\"o\">*</span> <span class=\"k\">const</span> <span class=\"n\">fd_I_21</span> <span class=\"o\">=</span> <span class=\"n\">fd_I</span> <span class=\"o\">+</span> <span class=\"mi\">1</span><span class=\"p\">;</span>\n",
       "   <span class=\"k\">for</span> <span class=\"p\">(</span><span class=\"kt\">int</span> <span class=\"n\">ctr_0</span> <span class=\"o\">=</span> <span class=\"mi\">1</span><span class=\"p\">;</span> <span class=\"n\">ctr_0</span> <span class=\"o\">&lt;</span> <span class=\"mi\">81</span><span class=\"p\">;</span> <span class=\"n\">ctr_0</span> <span class=\"o\">+=</span> <span class=\"mi\">1</span><span class=\"p\">)</span>\n",
       "   <span class=\"p\">{</span>\n",
       "      <span class=\"kt\">double</span> <span class=\"o\">*</span> <span class=\"n\">fd_dst_00</span> <span class=\"o\">=</span> <span class=\"mi\">290</span><span class=\"o\">*</span><span class=\"n\">ctr_0</span> <span class=\"o\">+</span> <span class=\"n\">fd_dst</span><span class=\"p\">;</span>\n",
       "      <span class=\"kt\">double</span> <span class=\"o\">*</span> <span class=\"k\">const</span> <span class=\"n\">fd_I_21_01</span> <span class=\"o\">=</span> <span class=\"mi\">1160</span><span class=\"o\">*</span><span class=\"n\">ctr_0</span> <span class=\"o\">+</span> <span class=\"n\">fd_I_21</span> <span class=\"o\">+</span> <span class=\"mi\">1160</span><span class=\"p\">;</span>\n",
       "      <span class=\"kt\">double</span> <span class=\"o\">*</span> <span class=\"k\">const</span> <span class=\"n\">fd_I_21_0m1</span> <span class=\"o\">=</span> <span class=\"mi\">1160</span><span class=\"o\">*</span><span class=\"n\">ctr_0</span> <span class=\"o\">+</span> <span class=\"n\">fd_I_21</span> <span class=\"o\">-</span> <span class=\"mi\">1160</span><span class=\"p\">;</span>\n",
       "      <span class=\"k\">for</span> <span class=\"p\">(</span><span class=\"kt\">int</span> <span class=\"n\">ctr_1</span> <span class=\"o\">=</span> <span class=\"mi\">1</span><span class=\"p\">;</span> <span class=\"n\">ctr_1</span> <span class=\"o\">&lt;</span> <span class=\"mi\">289</span><span class=\"p\">;</span> <span class=\"n\">ctr_1</span> <span class=\"o\">+=</span> <span class=\"mi\">1</span><span class=\"p\">)</span>\n",
       "      <span class=\"p\">{</span>\n",
       "         <span class=\"n\">fd_dst_00</span><span class=\"p\">[</span><span class=\"n\">ctr_1</span><span class=\"p\">]</span> <span class=\"o\">=</span> <span class=\"o\">-</span><span class=\"mi\">2</span><span class=\"o\">*</span><span class=\"n\">fd_I_21_0m1</span><span class=\"p\">[</span><span class=\"mi\">4</span><span class=\"o\">*</span><span class=\"n\">ctr_1</span><span class=\"p\">]</span> <span class=\"o\">+</span> <span class=\"mi\">2</span><span class=\"o\">*</span><span class=\"n\">fd_I_21_01</span><span class=\"p\">[</span><span class=\"mi\">4</span><span class=\"o\">*</span><span class=\"n\">ctr_1</span><span class=\"p\">]</span> <span class=\"o\">-</span> <span class=\"n\">fd_I_21_01</span><span class=\"p\">[</span><span class=\"mi\">4</span><span class=\"o\">*</span><span class=\"n\">ctr_1</span> <span class=\"o\">+</span> <span class=\"mi\">4</span><span class=\"p\">]</span> <span class=\"o\">+</span> <span class=\"n\">fd_I_21_01</span><span class=\"p\">[</span><span class=\"mi\">4</span><span class=\"o\">*</span><span class=\"n\">ctr_1</span> <span class=\"o\">-</span> <span class=\"mi\">4</span><span class=\"p\">]</span> <span class=\"o\">-</span> <span class=\"n\">fd_I_21_0m1</span><span class=\"p\">[</span><span class=\"mi\">4</span><span class=\"o\">*</span><span class=\"n\">ctr_1</span> <span class=\"o\">+</span> <span class=\"mi\">4</span><span class=\"p\">]</span> <span class=\"o\">-</span> <span class=\"n\">fd_I_21_0m1</span><span class=\"p\">[</span><span class=\"mi\">4</span><span class=\"o\">*</span><span class=\"n\">ctr_1</span> <span class=\"o\">-</span> <span class=\"mi\">4</span><span class=\"p\">];</span>\n",
       "      <span class=\"p\">}</span>\n",
       "   <span class=\"p\">}</span>\n",
       "<span class=\"p\">}</span>\n",
       "</pre></div>\n"
      ],
      "text/plain": [
       "FUNC_PREFIX void kernel(double * const fd_I, double * fd_dst)\n",
       "{\n",
       "   double * const fd_I_21 = fd_I + 1;\n",
       "   for (int ctr_0 = 1; ctr_0 < 81; ctr_0 += 1)\n",
       "   {\n",
       "      double * fd_dst_00 = 290*ctr_0 + fd_dst;\n",
       "      double * const fd_I_21_01 = 1160*ctr_0 + fd_I_21 + 1160;\n",
       "      double * const fd_I_21_0m1 = 1160*ctr_0 + fd_I_21 - 1160;\n",
       "      for (int ctr_1 = 1; ctr_1 < 289; ctr_1 += 1)\n",
       "      {\n",
       "         fd_dst_00[ctr_1] = -2*fd_I_21_0m1[4*ctr_1] + 2*fd_I_21_01[4*ctr_1] - fd_I_21_01[4*ctr_1 + 4] + fd_I_21_01[4*ctr_1 - 4] - fd_I_21_0m1[4*ctr_1 + 4] - fd_I_21_0m1[4*ctr_1 - 4];\n",
       "      }\n",
       "   }\n",
       "}"
      ]
     },
     "execution_count": 36,
     "metadata": {},
     "output_type": "execute_result"
    }
   ],
   "source": [
    "img_field = ps.Field.create_from_numpy_array('I', img.astype(np.double), index_dimensions=1)\n",
    "dst_field = ps.Field.create_from_numpy_array('dst', filtered_image, index_dimensions=0)\n",
    "\n",
    "sobel_x = -2 * img_field[-1,0](1) - img_field[-1,-1](1) - img_field[-1, +1](1) \\\n",
    "         +2 * img_field[+1,0](1) + img_field[+1,-1](1) - img_field[+1, +1](1)\n",
    "update_rule = ps.Assignment(dst_field[0,0], sobel_x)\n",
    "\n",
    "ast = create_kernel([update_rule])\n",
    "ps.show_code(ast)"
   ]
  },
  {
   "cell_type": "markdown",
   "metadata": {},
   "source": [
    "Compare this code to the version above. In this code the loop bounds and array offsets are constants, which usually leads to faster kernels."
   ]
  },
  {
   "cell_type": "markdown",
   "metadata": {},
   "source": [
    "### Running on GPU\n",
    "\n",
    "If you have a CUDA enabled graphics card and [pycuda](https://mathema.tician.de/software/pycuda/) installed, *pystencils* can run your kernel on the GPU as well. You can find more details about this in the GPU tutorial."
   ]
  },
  {
   "cell_type": "code",
   "execution_count": 37,
   "metadata": {},
   "outputs": [],
   "source": [
    "gpu_ast = create_kernel([update_rule], target='gpu', gpu_indexing=ps.gpucuda.indexing.BlockIndexing, \n",
    "                        gpu_indexing_params={'blockSize': (8,8,4)})"
   ]
  },
  {
   "cell_type": "code",
   "execution_count": 38,
   "metadata": {},
   "outputs": [
    {
     "data": {
      "text/html": [
       "<style>.highlight .hll { background-color: #ffffcc }\n",
       ".highlight  { background: #f8f8f8; }\n",
       ".highlight .c { color: #408080; font-style: italic } /* Comment */\n",
       ".highlight .err { border: 1px solid #FF0000 } /* Error */\n",
       ".highlight .k { color: #008000; font-weight: bold } /* Keyword */\n",
       ".highlight .o { color: #666666 } /* Operator */\n",
       ".highlight .ch { color: #408080; font-style: italic } /* Comment.Hashbang */\n",
       ".highlight .cm { color: #408080; font-style: italic } /* Comment.Multiline */\n",
       ".highlight .cp { color: #BC7A00 } /* Comment.Preproc */\n",
       ".highlight .cpf { color: #408080; font-style: italic } /* Comment.PreprocFile */\n",
       ".highlight .c1 { color: #408080; font-style: italic } /* Comment.Single */\n",
       ".highlight .cs { color: #408080; font-style: italic } /* Comment.Special */\n",
       ".highlight .gd { color: #A00000 } /* Generic.Deleted */\n",
       ".highlight .ge { font-style: italic } /* Generic.Emph */\n",
       ".highlight .gr { color: #FF0000 } /* Generic.Error */\n",
       ".highlight .gh { color: #000080; font-weight: bold } /* Generic.Heading */\n",
       ".highlight .gi { color: #00A000 } /* Generic.Inserted */\n",
       ".highlight .go { color: #888888 } /* Generic.Output */\n",
       ".highlight .gp { color: #000080; font-weight: bold } /* Generic.Prompt */\n",
       ".highlight .gs { font-weight: bold } /* Generic.Strong */\n",
       ".highlight .gu { color: #800080; font-weight: bold } /* Generic.Subheading */\n",
       ".highlight .gt { color: #0044DD } /* Generic.Traceback */\n",
       ".highlight .kc { color: #008000; font-weight: bold } /* Keyword.Constant */\n",
       ".highlight .kd { color: #008000; font-weight: bold } /* Keyword.Declaration */\n",
       ".highlight .kn { color: #008000; font-weight: bold } /* Keyword.Namespace */\n",
       ".highlight .kp { color: #008000 } /* Keyword.Pseudo */\n",
       ".highlight .kr { color: #008000; font-weight: bold } /* Keyword.Reserved */\n",
       ".highlight .kt { color: #B00040 } /* Keyword.Type */\n",
       ".highlight .m { color: #666666 } /* Literal.Number */\n",
       ".highlight .s { color: #BA2121 } /* Literal.String */\n",
       ".highlight .na { color: #7D9029 } /* Name.Attribute */\n",
       ".highlight .nb { color: #008000 } /* Name.Builtin */\n",
       ".highlight .nc { color: #0000FF; font-weight: bold } /* Name.Class */\n",
       ".highlight .no { color: #880000 } /* Name.Constant */\n",
       ".highlight .nd { color: #AA22FF } /* Name.Decorator */\n",
       ".highlight .ni { color: #999999; font-weight: bold } /* Name.Entity */\n",
       ".highlight .ne { color: #D2413A; font-weight: bold } /* Name.Exception */\n",
       ".highlight .nf { color: #0000FF } /* Name.Function */\n",
       ".highlight .nl { color: #A0A000 } /* Name.Label */\n",
       ".highlight .nn { color: #0000FF; font-weight: bold } /* Name.Namespace */\n",
       ".highlight .nt { color: #008000; font-weight: bold } /* Name.Tag */\n",
       ".highlight .nv { color: #19177C } /* Name.Variable */\n",
       ".highlight .ow { color: #AA22FF; font-weight: bold } /* Operator.Word */\n",
       ".highlight .w { color: #bbbbbb } /* Text.Whitespace */\n",
       ".highlight .mb { color: #666666 } /* Literal.Number.Bin */\n",
       ".highlight .mf { color: #666666 } /* Literal.Number.Float */\n",
       ".highlight .mh { color: #666666 } /* Literal.Number.Hex */\n",
       ".highlight .mi { color: #666666 } /* Literal.Number.Integer */\n",
       ".highlight .mo { color: #666666 } /* Literal.Number.Oct */\n",
       ".highlight .sa { color: #BA2121 } /* Literal.String.Affix */\n",
       ".highlight .sb { color: #BA2121 } /* Literal.String.Backtick */\n",
       ".highlight .sc { color: #BA2121 } /* Literal.String.Char */\n",
       ".highlight .dl { color: #BA2121 } /* Literal.String.Delimiter */\n",
       ".highlight .sd { color: #BA2121; font-style: italic } /* Literal.String.Doc */\n",
       ".highlight .s2 { color: #BA2121 } /* Literal.String.Double */\n",
       ".highlight .se { color: #BB6622; font-weight: bold } /* Literal.String.Escape */\n",
       ".highlight .sh { color: #BA2121 } /* Literal.String.Heredoc */\n",
       ".highlight .si { color: #BB6688; font-weight: bold } /* Literal.String.Interpol */\n",
       ".highlight .sx { color: #008000 } /* Literal.String.Other */\n",
       ".highlight .sr { color: #BB6688 } /* Literal.String.Regex */\n",
       ".highlight .s1 { color: #BA2121 } /* Literal.String.Single */\n",
       ".highlight .ss { color: #19177C } /* Literal.String.Symbol */\n",
       ".highlight .bp { color: #008000 } /* Name.Builtin.Pseudo */\n",
       ".highlight .fm { color: #0000FF } /* Name.Function.Magic */\n",
       ".highlight .vc { color: #19177C } /* Name.Variable.Class */\n",
       ".highlight .vg { color: #19177C } /* Name.Variable.Global */\n",
       ".highlight .vi { color: #19177C } /* Name.Variable.Instance */\n",
       ".highlight .vm { color: #19177C } /* Name.Variable.Magic */\n",
       ".highlight .il { color: #666666 } /* Literal.Number.Integer.Long */</style>"
      ],
      "text/plain": [
       "<IPython.core.display.HTML object>"
      ]
     },
     "metadata": {},
     "output_type": "display_data"
    },
    {
     "data": {
      "text/html": [
       "<div class=\"highlight\"><pre><span></span><span class=\"n\">FUNC_PREFIX</span> <span class=\"kt\">void</span> <span class=\"nf\">kernel</span><span class=\"p\">(</span><span class=\"kt\">double</span> <span class=\"o\">*</span> <span class=\"k\">const</span> <span class=\"n\">fd_I</span><span class=\"p\">,</span> <span class=\"kt\">double</span> <span class=\"o\">*</span> <span class=\"n\">fd_dst</span><span class=\"p\">)</span>\n",
       "<span class=\"p\">{</span>\n",
       "   <span class=\"k\">if</span> <span class=\"p\">(</span><span class=\"mi\">16</span><span class=\"o\">*</span><span class=\"n\">blockIdx</span><span class=\"p\">.</span><span class=\"n\">x</span> <span class=\"o\">+</span> <span class=\"n\">threadIdx</span><span class=\"p\">.</span><span class=\"n\">x</span> <span class=\"o\">+</span> <span class=\"mi\">1</span> <span class=\"o\">&lt;</span> <span class=\"mi\">81</span> <span class=\"o\">&amp;&amp;</span> <span class=\"mi\">16</span><span class=\"o\">*</span><span class=\"n\">blockIdx</span><span class=\"p\">.</span><span class=\"n\">y</span> <span class=\"o\">+</span> <span class=\"n\">threadIdx</span><span class=\"p\">.</span><span class=\"n\">y</span> <span class=\"o\">+</span> <span class=\"mi\">1</span> <span class=\"o\">&lt;</span> <span class=\"mi\">289</span><span class=\"p\">)</span>\n",
       "   <span class=\"p\">{</span>\n",
       "      <span class=\"k\">const</span> <span class=\"kt\">int64_t</span> <span class=\"n\">ctr_0</span> <span class=\"o\">=</span> <span class=\"mi\">16</span><span class=\"o\">*</span><span class=\"n\">blockIdx</span><span class=\"p\">.</span><span class=\"n\">x</span> <span class=\"o\">+</span> <span class=\"n\">threadIdx</span><span class=\"p\">.</span><span class=\"n\">x</span> <span class=\"o\">+</span> <span class=\"mi\">1</span><span class=\"p\">;</span>\n",
       "      <span class=\"k\">const</span> <span class=\"kt\">int64_t</span> <span class=\"n\">ctr_1</span> <span class=\"o\">=</span> <span class=\"mi\">16</span><span class=\"o\">*</span><span class=\"n\">blockIdx</span><span class=\"p\">.</span><span class=\"n\">y</span> <span class=\"o\">+</span> <span class=\"n\">threadIdx</span><span class=\"p\">.</span><span class=\"n\">y</span> <span class=\"o\">+</span> <span class=\"mi\">1</span><span class=\"p\">;</span>\n",
       "      <span class=\"kt\">double</span> <span class=\"o\">*</span> <span class=\"n\">fd_dst_10</span> <span class=\"o\">=</span> <span class=\"n\">ctr_1</span> <span class=\"o\">+</span> <span class=\"n\">fd_dst</span><span class=\"p\">;</span>\n",
       "      <span class=\"kt\">double</span> <span class=\"o\">*</span> <span class=\"k\">const</span> <span class=\"n\">fd_I_11_21</span> <span class=\"o\">=</span> <span class=\"mi\">4</span><span class=\"o\">*</span><span class=\"n\">ctr_1</span> <span class=\"o\">+</span> <span class=\"n\">fd_I</span> <span class=\"o\">+</span> <span class=\"mi\">5</span><span class=\"p\">;</span>\n",
       "      <span class=\"kt\">double</span> <span class=\"o\">*</span> <span class=\"k\">const</span> <span class=\"n\">fd_I_1m1_21</span> <span class=\"o\">=</span> <span class=\"mi\">4</span><span class=\"o\">*</span><span class=\"n\">ctr_1</span> <span class=\"o\">+</span> <span class=\"n\">fd_I</span> <span class=\"o\">-</span> <span class=\"mi\">3</span><span class=\"p\">;</span>\n",
       "      <span class=\"kt\">double</span> <span class=\"o\">*</span> <span class=\"k\">const</span> <span class=\"n\">fd_I_10_21</span> <span class=\"o\">=</span> <span class=\"mi\">4</span><span class=\"o\">*</span><span class=\"n\">ctr_1</span> <span class=\"o\">+</span> <span class=\"n\">fd_I</span> <span class=\"o\">+</span> <span class=\"mi\">1</span><span class=\"p\">;</span>\n",
       "      <span class=\"n\">fd_dst_10</span><span class=\"p\">[</span><span class=\"mi\">290</span><span class=\"o\">*</span><span class=\"n\">ctr_0</span><span class=\"p\">]</span> <span class=\"o\">=</span> <span class=\"o\">-</span><span class=\"mi\">2</span><span class=\"o\">*</span><span class=\"n\">fd_I_10_21</span><span class=\"p\">[</span><span class=\"mi\">1160</span><span class=\"o\">*</span><span class=\"n\">ctr_0</span> <span class=\"o\">-</span> <span class=\"mi\">1160</span><span class=\"p\">]</span> <span class=\"o\">+</span> <span class=\"mi\">2</span><span class=\"o\">*</span><span class=\"n\">fd_I_10_21</span><span class=\"p\">[</span><span class=\"mi\">1160</span><span class=\"o\">*</span><span class=\"n\">ctr_0</span> <span class=\"o\">+</span> <span class=\"mi\">1160</span><span class=\"p\">]</span> <span class=\"o\">-</span> <span class=\"n\">fd_I_11_21</span><span class=\"p\">[</span><span class=\"mi\">1160</span><span class=\"o\">*</span><span class=\"n\">ctr_0</span> <span class=\"o\">+</span> <span class=\"mi\">1160</span><span class=\"p\">]</span> <span class=\"o\">-</span> <span class=\"n\">fd_I_11_21</span><span class=\"p\">[</span><span class=\"mi\">1160</span><span class=\"o\">*</span><span class=\"n\">ctr_0</span> <span class=\"o\">-</span> <span class=\"mi\">1160</span><span class=\"p\">]</span> <span class=\"o\">+</span> <span class=\"n\">fd_I_1m1_21</span><span class=\"p\">[</span><span class=\"mi\">1160</span><span class=\"o\">*</span><span class=\"n\">ctr_0</span> <span class=\"o\">+</span> <span class=\"mi\">1160</span><span class=\"p\">]</span> <span class=\"o\">-</span> <span class=\"n\">fd_I_1m1_21</span><span class=\"p\">[</span><span class=\"mi\">1160</span><span class=\"o\">*</span><span class=\"n\">ctr_0</span> <span class=\"o\">-</span> <span class=\"mi\">1160</span><span class=\"p\">];</span>\n",
       "   <span class=\"p\">}</span> \n",
       "<span class=\"p\">}</span>\n",
       "</pre></div>\n"
      ],
      "text/plain": [
       "FUNC_PREFIX void kernel(double * const fd_I, double * fd_dst)\n",
       "{\n",
       "   if (16*blockIdx.x + threadIdx.x + 1 < 81 && 16*blockIdx.y + threadIdx.y + 1 < 289)\n",
       "   {\n",
       "      const int64_t ctr_0 = 16*blockIdx.x + threadIdx.x + 1;\n",
       "      const int64_t ctr_1 = 16*blockIdx.y + threadIdx.y + 1;\n",
       "      double * fd_dst_10 = ctr_1 + fd_dst;\n",
       "      double * const fd_I_11_21 = 4*ctr_1 + fd_I + 5;\n",
       "      double * const fd_I_1m1_21 = 4*ctr_1 + fd_I - 3;\n",
       "      double * const fd_I_10_21 = 4*ctr_1 + fd_I + 1;\n",
       "      fd_dst_10[290*ctr_0] = -2*fd_I_10_21[1160*ctr_0 - 1160] + 2*fd_I_10_21[1160*ctr_0 + 1160] - fd_I_11_21[1160*ctr_0 + 1160] - fd_I_11_21[1160*ctr_0 - 1160] + fd_I_1m1_21[1160*ctr_0 + 1160] - fd_I_1m1_21[1160*ctr_0 - 1160];\n",
       "   } \n",
       "}"
      ]
     },
     "execution_count": 38,
     "metadata": {},
     "output_type": "execute_result"
    }
   ],
   "source": [
    "ps.show_code(gpu_ast)"
   ]
  }
 ],
 "metadata": {
  "anaconda-cloud": {},
  "kernelspec": {
   "display_name": "Python 3",
   "language": "python",
   "name": "python3"
  },
  "language_info": {
   "codemirror_mode": {
    "name": "ipython",
    "version": 3
   },
   "file_extension": ".py",
   "mimetype": "text/x-python",
   "name": "python",
   "nbconvert_exporter": "python",
   "pygments_lexer": "ipython3",
   "version": "3.6.6"
  }
 },
 "nbformat": 4,
 "nbformat_minor": 2
}
